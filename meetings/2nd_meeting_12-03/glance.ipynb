{
 "cells": [
  {
   "cell_type": "markdown",
   "metadata": {},
   "source": [
    "## Starters of exploration"
   ]
  },
  {
   "cell_type": "markdown",
   "metadata": {},
   "source": [
    "Import stuff."
   ]
  },
  {
   "cell_type": "code",
   "execution_count": 1,
   "metadata": {},
   "outputs": [],
   "source": [
    "import os \n",
    "import pandas as pd\n",
    "import matplotlib.pyplot as plt\n",
    "import numpy as np\n",
    "\n",
    "%matplotlib inline"
   ]
  },
  {
   "cell_type": "markdown",
   "metadata": {},
   "source": [
    "Dataset path as global variables."
   ]
  },
  {
   "cell_type": "code",
   "execution_count": 2,
   "metadata": {},
   "outputs": [],
   "source": [
    "DATASET_PATH = '/home/alk/aau/datasets'\n",
    "\n",
    "LOLLAND_PATH = os.path.join(DATASET_PATH, 'Lolland/LRR69F')\n",
    "LOLLAND_CSV = 'export.csv'\n",
    "\n",
    "SVEBOLLE_PATH = os.path.join(DATASET_PATH, 'Svebolle')\n",
    "SVEBOLLE_CSV = 'LORA_data.csv'"
   ]
  },
  {
   "cell_type": "markdown",
   "metadata": {},
   "source": [
    "Loading the Data."
   ]
  },
  {
   "cell_type": "code",
   "execution_count": 3,
   "metadata": {},
   "outputs": [],
   "source": [
    "# better of with function just in case\n",
    "def load_data(path, csv_file, sep=','):\n",
    "    \"\"\"default sep param is ','\"\"\"\n",
    "    csv_path = os.path.join(path, csv_file)\n",
    "    return pd.read_csv(csv_path, sep)"
   ]
  },
  {
   "cell_type": "markdown",
   "metadata": {},
   "source": [
    "Starting with large Svebolle dataset."
   ]
  },
  {
   "cell_type": "code",
   "execution_count": 4,
   "metadata": {},
   "outputs": [],
   "source": [
    "data = load_data(SVEBOLLE_PATH, SVEBOLLE_CSV,\n",
    "                 sep=';') # actually semicolon separated values "
   ]
  },
  {
   "cell_type": "markdown",
   "metadata": {},
   "source": [
    "Checking out head of Svebolle dataset."
   ]
  },
  {
   "cell_type": "code",
   "execution_count": 5,
   "metadata": {},
   "outputs": [
    {
     "data": {
      "text/html": [
       "<div>\n",
       "<style scoped>\n",
       "    .dataframe tbody tr th:only-of-type {\n",
       "        vertical-align: middle;\n",
       "    }\n",
       "\n",
       "    .dataframe tbody tr th {\n",
       "        vertical-align: top;\n",
       "    }\n",
       "\n",
       "    .dataframe thead th {\n",
       "        text-align: right;\n",
       "    }\n",
       "</style>\n",
       "<table border=\"1\" class=\"dataframe\">\n",
       "  <thead>\n",
       "    <tr style=\"text-align: right;\">\n",
       "      <th></th>\n",
       "      <th>Time</th>\n",
       "      <th>DevAddr</th>\n",
       "      <th>Freq</th>\n",
       "      <th>Chan</th>\n",
       "      <th>BW</th>\n",
       "      <th>SPF</th>\n",
       "      <th>RSSI</th>\n",
       "      <th>SNR</th>\n",
       "      <th>4/5</th>\n",
       "      <th>dataRate</th>\n",
       "      <th>crcStatus</th>\n",
       "      <th>mType</th>\n",
       "      <th>macPayload</th>\n",
       "      <th>_id</th>\n",
       "    </tr>\n",
       "  </thead>\n",
       "  <tbody>\n",
       "    <tr>\n",
       "      <th>0</th>\n",
       "      <td>2017-01-02 12:08:27.788000</td>\n",
       "      <td>000013c1</td>\n",
       "      <td>868100000</td>\n",
       "      <td>0</td>\n",
       "      <td>125</td>\n",
       "      <td>7</td>\n",
       "      <td>-120</td>\n",
       "      <td>-1.0</td>\n",
       "      <td>4/5</td>\n",
       "      <td>{u'modulation': u'LORA', u'bandwidth': 125, u'...</td>\n",
       "      <td>1</td>\n",
       "      <td>Confirmed Data Up</td>\n",
       "      <td>c1130000804605039977d43d70b12724eea946c5a41f42...</td>\n",
       "      <td>586a34acb5866106ea976eb5</td>\n",
       "    </tr>\n",
       "    <tr>\n",
       "      <th>1</th>\n",
       "      <td>2017-01-02 12:08:29.196000</td>\n",
       "      <td>000013b8</td>\n",
       "      <td>868500000</td>\n",
       "      <td>2</td>\n",
       "      <td>125</td>\n",
       "      <td>7</td>\n",
       "      <td>-58</td>\n",
       "      <td>6.5</td>\n",
       "      <td>4/5</td>\n",
       "      <td>{u'modulation': u'LORA', u'bandwidth': 125, u'...</td>\n",
       "      <td>1</td>\n",
       "      <td>Confirmed Data Up</td>\n",
       "      <td>b813000000142b0352619fc9a89e0e561d060ca3ac29e5...</td>\n",
       "      <td>586a34aeb5866106ea976eb6</td>\n",
       "    </tr>\n",
       "    <tr>\n",
       "      <th>2</th>\n",
       "      <td>2017-01-02 12:08:44.520000</td>\n",
       "      <td>000013bf</td>\n",
       "      <td>868300000</td>\n",
       "      <td>1</td>\n",
       "      <td>125</td>\n",
       "      <td>7</td>\n",
       "      <td>-118,8</td>\n",
       "      <td>-1.8</td>\n",
       "      <td>4/5</td>\n",
       "      <td>{u'modulation': u'LORA', u'bandwidth': 125, u'...</td>\n",
       "      <td>1</td>\n",
       "      <td>Confirmed Data Up</td>\n",
       "      <td>bf13000080ba30042ea26888992702442c832fc2c8ac91...</td>\n",
       "      <td>586a34bdb5866106ea976eb7</td>\n",
       "    </tr>\n",
       "    <tr>\n",
       "      <th>3</th>\n",
       "      <td>2017-01-02 12:08:55.347000</td>\n",
       "      <td>000013bf</td>\n",
       "      <td>868500000</td>\n",
       "      <td>2</td>\n",
       "      <td>125</td>\n",
       "      <td>7</td>\n",
       "      <td>-115</td>\n",
       "      <td>1.8</td>\n",
       "      <td>4/5</td>\n",
       "      <td>{u'modulation': u'LORA', u'bandwidth': 125, u'...</td>\n",
       "      <td>1</td>\n",
       "      <td>Confirmed Data Up</td>\n",
       "      <td>bf13000080bb30030a96702f4ebe2cfe8559765a622344...</td>\n",
       "      <td>586a34c8b5866106ea976eb8</td>\n",
       "    </tr>\n",
       "    <tr>\n",
       "      <th>4</th>\n",
       "      <td>2017-01-02 12:08:55.346000</td>\n",
       "      <td>000013bf</td>\n",
       "      <td>868500000</td>\n",
       "      <td>2</td>\n",
       "      <td>125</td>\n",
       "      <td>7</td>\n",
       "      <td>-115</td>\n",
       "      <td>1.8</td>\n",
       "      <td>4/5</td>\n",
       "      <td>{u'modulation': u'LORA', u'bandwidth': 125, u'...</td>\n",
       "      <td>1</td>\n",
       "      <td>Confirmed Data Up</td>\n",
       "      <td>bf13000080bb30030a96702f4ebe2cfe8559765a622344...</td>\n",
       "      <td>586a34c8b5866106ea976eb9</td>\n",
       "    </tr>\n",
       "    <tr>\n",
       "      <th>5</th>\n",
       "      <td>2017-01-02 12:09:00.488000</td>\n",
       "      <td>000013b7</td>\n",
       "      <td>868100000</td>\n",
       "      <td>0</td>\n",
       "      <td>125</td>\n",
       "      <td>7</td>\n",
       "      <td>-83</td>\n",
       "      <td>8.5</td>\n",
       "      <td>4/5</td>\n",
       "      <td>{u'modulation': u'LORA', u'bandwidth': 125, u'...</td>\n",
       "      <td>1</td>\n",
       "      <td>Confirmed Data Up</td>\n",
       "      <td>b713000000fcef0317b8cde19fb3eb57a0dc0bd81ea08b...</td>\n",
       "      <td>586a34cdb5866106ea976eba</td>\n",
       "    </tr>\n",
       "    <tr>\n",
       "      <th>6</th>\n",
       "      <td>2017-01-02 12:09:04.840000</td>\n",
       "      <td>000013b7</td>\n",
       "      <td>868500000</td>\n",
       "      <td>2</td>\n",
       "      <td>125</td>\n",
       "      <td>7</td>\n",
       "      <td>-82</td>\n",
       "      <td>6.8</td>\n",
       "      <td>4/5</td>\n",
       "      <td>{u'modulation': u'LORA', u'bandwidth': 125, u'...</td>\n",
       "      <td>1</td>\n",
       "      <td>Confirmed Data Up</td>\n",
       "      <td>b713000000fdef04b780640b021db9b2f8c9d137c85367...</td>\n",
       "      <td>586a34d1b5866106ea976ebb</td>\n",
       "    </tr>\n",
       "    <tr>\n",
       "      <th>7</th>\n",
       "      <td>2017-01-02 12:09:09.128000</td>\n",
       "      <td>000013b7</td>\n",
       "      <td>868100000</td>\n",
       "      <td>0</td>\n",
       "      <td>125</td>\n",
       "      <td>7</td>\n",
       "      <td>-83</td>\n",
       "      <td>10.8</td>\n",
       "      <td>4/5</td>\n",
       "      <td>{u'modulation': u'LORA', u'bandwidth': 125, u'...</td>\n",
       "      <td>1</td>\n",
       "      <td>Confirmed Data Up</td>\n",
       "      <td>b713000000feef053196450badb2d68dfde85aab40be85...</td>\n",
       "      <td>586a34d6b5866106ea976ebc</td>\n",
       "    </tr>\n",
       "    <tr>\n",
       "      <th>8</th>\n",
       "      <td>2017-01-02 12:09:29.228000</td>\n",
       "      <td>000013c1</td>\n",
       "      <td>868300000</td>\n",
       "      <td>1</td>\n",
       "      <td>125</td>\n",
       "      <td>7</td>\n",
       "      <td>-121,8</td>\n",
       "      <td>-4.8</td>\n",
       "      <td>4/5</td>\n",
       "      <td>{u'modulation': u'LORA', u'bandwidth': 125, u'...</td>\n",
       "      <td>1</td>\n",
       "      <td>Confirmed Data Up</td>\n",
       "      <td>c1130000804705040674c00f57d4004edbcc35f18d4f19...</td>\n",
       "      <td>586a34eab5866106ea976ebd</td>\n",
       "    </tr>\n",
       "    <tr>\n",
       "      <th>9</th>\n",
       "      <td>2017-01-02 12:09:44.485000</td>\n",
       "      <td>000013bf</td>\n",
       "      <td>868100000</td>\n",
       "      <td>0</td>\n",
       "      <td>125</td>\n",
       "      <td>7</td>\n",
       "      <td>-117</td>\n",
       "      <td>0.0</td>\n",
       "      <td>4/5</td>\n",
       "      <td>{u'modulation': u'LORA', u'bandwidth': 125, u'...</td>\n",
       "      <td>1</td>\n",
       "      <td>Confirmed Data Up</td>\n",
       "      <td>bf13000080bc3004e08e30b38d6d9517e9c0fa590b2e7d...</td>\n",
       "      <td>586a34f9b5866106ea976ebe</td>\n",
       "    </tr>\n",
       "  </tbody>\n",
       "</table>\n",
       "</div>"
      ],
      "text/plain": [
       "                         Time   DevAddr       Freq  Chan   BW  SPF    RSSI  \\\n",
       "0  2017-01-02 12:08:27.788000  000013c1  868100000     0  125    7    -120   \n",
       "1  2017-01-02 12:08:29.196000  000013b8  868500000     2  125    7     -58   \n",
       "2  2017-01-02 12:08:44.520000  000013bf  868300000     1  125    7  -118,8   \n",
       "3  2017-01-02 12:08:55.347000  000013bf  868500000     2  125    7    -115   \n",
       "4  2017-01-02 12:08:55.346000  000013bf  868500000     2  125    7    -115   \n",
       "5  2017-01-02 12:09:00.488000  000013b7  868100000     0  125    7     -83   \n",
       "6  2017-01-02 12:09:04.840000  000013b7  868500000     2  125    7     -82   \n",
       "7  2017-01-02 12:09:09.128000  000013b7  868100000     0  125    7     -83   \n",
       "8  2017-01-02 12:09:29.228000  000013c1  868300000     1  125    7  -121,8   \n",
       "9  2017-01-02 12:09:44.485000  000013bf  868100000     0  125    7    -117   \n",
       "\n",
       "    SNR   4/5                                           dataRate  crcStatus  \\\n",
       "0  -1.0   4/5  {u'modulation': u'LORA', u'bandwidth': 125, u'...          1   \n",
       "1   6.5   4/5  {u'modulation': u'LORA', u'bandwidth': 125, u'...          1   \n",
       "2  -1.8   4/5  {u'modulation': u'LORA', u'bandwidth': 125, u'...          1   \n",
       "3   1.8   4/5  {u'modulation': u'LORA', u'bandwidth': 125, u'...          1   \n",
       "4   1.8   4/5  {u'modulation': u'LORA', u'bandwidth': 125, u'...          1   \n",
       "5   8.5   4/5  {u'modulation': u'LORA', u'bandwidth': 125, u'...          1   \n",
       "6   6.8   4/5  {u'modulation': u'LORA', u'bandwidth': 125, u'...          1   \n",
       "7  10.8   4/5  {u'modulation': u'LORA', u'bandwidth': 125, u'...          1   \n",
       "8  -4.8   4/5  {u'modulation': u'LORA', u'bandwidth': 125, u'...          1   \n",
       "9   0.0   4/5  {u'modulation': u'LORA', u'bandwidth': 125, u'...          1   \n",
       "\n",
       "               mType                                         macPayload  \\\n",
       "0  Confirmed Data Up  c1130000804605039977d43d70b12724eea946c5a41f42...   \n",
       "1  Confirmed Data Up  b813000000142b0352619fc9a89e0e561d060ca3ac29e5...   \n",
       "2  Confirmed Data Up  bf13000080ba30042ea26888992702442c832fc2c8ac91...   \n",
       "3  Confirmed Data Up  bf13000080bb30030a96702f4ebe2cfe8559765a622344...   \n",
       "4  Confirmed Data Up  bf13000080bb30030a96702f4ebe2cfe8559765a622344...   \n",
       "5  Confirmed Data Up  b713000000fcef0317b8cde19fb3eb57a0dc0bd81ea08b...   \n",
       "6  Confirmed Data Up  b713000000fdef04b780640b021db9b2f8c9d137c85367...   \n",
       "7  Confirmed Data Up  b713000000feef053196450badb2d68dfde85aab40be85...   \n",
       "8  Confirmed Data Up  c1130000804705040674c00f57d4004edbcc35f18d4f19...   \n",
       "9  Confirmed Data Up  bf13000080bc3004e08e30b38d6d9517e9c0fa590b2e7d...   \n",
       "\n",
       "                        _id  \n",
       "0  586a34acb5866106ea976eb5  \n",
       "1  586a34aeb5866106ea976eb6  \n",
       "2  586a34bdb5866106ea976eb7  \n",
       "3  586a34c8b5866106ea976eb8  \n",
       "4  586a34c8b5866106ea976eb9  \n",
       "5  586a34cdb5866106ea976eba  \n",
       "6  586a34d1b5866106ea976ebb  \n",
       "7  586a34d6b5866106ea976ebc  \n",
       "8  586a34eab5866106ea976ebd  \n",
       "9  586a34f9b5866106ea976ebe  "
      ]
     },
     "execution_count": 5,
     "metadata": {},
     "output_type": "execute_result"
    }
   ],
   "source": [
    "data.head(10)"
   ]
  },
  {
   "cell_type": "markdown",
   "metadata": {},
   "source": [
    "Basic info for every column in dataset."
   ]
  },
  {
   "cell_type": "code",
   "execution_count": 6,
   "metadata": {},
   "outputs": [
    {
     "name": "stdout",
     "output_type": "stream",
     "text": [
      "<class 'pandas.core.frame.DataFrame'>\n",
      "RangeIndex: 689396 entries, 0 to 689395\n",
      "Data columns (total 14 columns):\n",
      "Time          689396 non-null object\n",
      "DevAddr       689276 non-null object\n",
      "Freq          689396 non-null int64\n",
      "Chan          689396 non-null int64\n",
      "BW            689396 non-null int64\n",
      "SPF           689396 non-null int64\n",
      "RSSI          689396 non-null object\n",
      "SNR           689396 non-null float64\n",
      " 4/5          689396 non-null object\n",
      "dataRate      689396 non-null object\n",
      "crcStatus     689396 non-null int64\n",
      "mType         689396 non-null object\n",
      "macPayload    689396 non-null object\n",
      "_id           689396 non-null object\n",
      "dtypes: float64(1), int64(5), object(8)\n",
      "memory usage: 73.6+ MB\n"
     ]
    }
   ],
   "source": [
    "data.info()"
   ]
  },
  {
   "cell_type": "markdown",
   "metadata": {},
   "source": [
    "Basic stats of numerical data."
   ]
  },
  {
   "cell_type": "code",
   "execution_count": 7,
   "metadata": {},
   "outputs": [
    {
     "data": {
      "text/html": [
       "<div>\n",
       "<style scoped>\n",
       "    .dataframe tbody tr th:only-of-type {\n",
       "        vertical-align: middle;\n",
       "    }\n",
       "\n",
       "    .dataframe tbody tr th {\n",
       "        vertical-align: top;\n",
       "    }\n",
       "\n",
       "    .dataframe thead th {\n",
       "        text-align: right;\n",
       "    }\n",
       "</style>\n",
       "<table border=\"1\" class=\"dataframe\">\n",
       "  <thead>\n",
       "    <tr style=\"text-align: right;\">\n",
       "      <th></th>\n",
       "      <th>Freq</th>\n",
       "      <th>Chan</th>\n",
       "      <th>BW</th>\n",
       "      <th>SPF</th>\n",
       "      <th>SNR</th>\n",
       "      <th>crcStatus</th>\n",
       "    </tr>\n",
       "  </thead>\n",
       "  <tbody>\n",
       "    <tr>\n",
       "      <th>count</th>\n",
       "      <td>6.893960e+05</td>\n",
       "      <td>689396.000000</td>\n",
       "      <td>689396.000000</td>\n",
       "      <td>689396.000000</td>\n",
       "      <td>689396.000000</td>\n",
       "      <td>689396.0</td>\n",
       "    </tr>\n",
       "    <tr>\n",
       "      <th>mean</th>\n",
       "      <td>8.680077e+08</td>\n",
       "      <td>2.373771</td>\n",
       "      <td>125.006527</td>\n",
       "      <td>7.284694</td>\n",
       "      <td>2.936245</td>\n",
       "      <td>1.0</td>\n",
       "    </tr>\n",
       "    <tr>\n",
       "      <th>std</th>\n",
       "      <td>4.607855e+05</td>\n",
       "      <td>2.293109</td>\n",
       "      <td>0.903266</td>\n",
       "      <td>1.144044</td>\n",
       "      <td>5.841973</td>\n",
       "      <td>0.0</td>\n",
       "    </tr>\n",
       "    <tr>\n",
       "      <th>min</th>\n",
       "      <td>8.671000e+08</td>\n",
       "      <td>0.000000</td>\n",
       "      <td>125.000000</td>\n",
       "      <td>7.000000</td>\n",
       "      <td>-31.800000</td>\n",
       "      <td>1.0</td>\n",
       "    </tr>\n",
       "    <tr>\n",
       "      <th>25%</th>\n",
       "      <td>8.677000e+08</td>\n",
       "      <td>1.000000</td>\n",
       "      <td>125.000000</td>\n",
       "      <td>7.000000</td>\n",
       "      <td>-1.000000</td>\n",
       "      <td>1.0</td>\n",
       "    </tr>\n",
       "    <tr>\n",
       "      <th>50%</th>\n",
       "      <td>8.681000e+08</td>\n",
       "      <td>2.000000</td>\n",
       "      <td>125.000000</td>\n",
       "      <td>7.000000</td>\n",
       "      <td>3.200000</td>\n",
       "      <td>1.0</td>\n",
       "    </tr>\n",
       "    <tr>\n",
       "      <th>75%</th>\n",
       "      <td>8.683000e+08</td>\n",
       "      <td>4.000000</td>\n",
       "      <td>125.000000</td>\n",
       "      <td>7.000000</td>\n",
       "      <td>8.000000</td>\n",
       "      <td>1.0</td>\n",
       "    </tr>\n",
       "    <tr>\n",
       "      <th>max</th>\n",
       "      <td>9.011858e+08</td>\n",
       "      <td>196.000000</td>\n",
       "      <td>250.000000</td>\n",
       "      <td>12.000000</td>\n",
       "      <td>31.200000</td>\n",
       "      <td>1.0</td>\n",
       "    </tr>\n",
       "  </tbody>\n",
       "</table>\n",
       "</div>"
      ],
      "text/plain": [
       "               Freq           Chan             BW            SPF  \\\n",
       "count  6.893960e+05  689396.000000  689396.000000  689396.000000   \n",
       "mean   8.680077e+08       2.373771     125.006527       7.284694   \n",
       "std    4.607855e+05       2.293109       0.903266       1.144044   \n",
       "min    8.671000e+08       0.000000     125.000000       7.000000   \n",
       "25%    8.677000e+08       1.000000     125.000000       7.000000   \n",
       "50%    8.681000e+08       2.000000     125.000000       7.000000   \n",
       "75%    8.683000e+08       4.000000     125.000000       7.000000   \n",
       "max    9.011858e+08     196.000000     250.000000      12.000000   \n",
       "\n",
       "                 SNR  crcStatus  \n",
       "count  689396.000000   689396.0  \n",
       "mean        2.936245        1.0  \n",
       "std         5.841973        0.0  \n",
       "min       -31.800000        1.0  \n",
       "25%        -1.000000        1.0  \n",
       "50%         3.200000        1.0  \n",
       "75%         8.000000        1.0  \n",
       "max        31.200000        1.0  "
      ]
     },
     "execution_count": 7,
     "metadata": {},
     "output_type": "execute_result"
    }
   ],
   "source": [
    "data.describe()"
   ]
  },
  {
   "cell_type": "markdown",
   "metadata": {},
   "source": [
    "Lets visualize to enable better data exploration."
   ]
  },
  {
   "cell_type": "code",
   "execution_count": 8,
   "metadata": {
    "scrolled": true
   },
   "outputs": [
    {
     "data": {
      "image/png": "[encoded data removed]",
      "text/plain": [
       "<Figure size 1440x1440 with 6 Axes>"
      ]
     },
     "metadata": {
      "needs_background": "light"
     },
     "output_type": "display_data"
    }
   ],
   "source": [
    "data.hist(bins=100, figsize=(20, 20))\n",
    "plt.show()"
   ]
  },
  {
   "cell_type": "markdown",
   "metadata": {},
   "source": [
    "Even though RSSI is numerical value (float64) because the comma was used (insted of dot) for dividing decimal part of number, it is represented like *object* type in DataFrame.\n",
    "\n",
    "First, lets see all unique values of the plotted histograms with visually small number of different values."
   ]
  },
  {
   "cell_type": "code",
   "execution_count": 9,
   "metadata": {},
   "outputs": [
    {
     "name": "stdout",
     "output_type": "stream",
     "text": [
      "BW unique data points: [125 250]\n",
      "\n",
      "Chan unique data points: [  0   2   1   8   5   4   7   6   3  12 196]\n",
      "\n",
      "Freq unique data points: [868100000 868500000 868300000 867500000 867300000 867900000 867700000\n",
      " 867100000 901185761]\n",
      "\n",
      "SPF unique data points: [ 7 12  8  9 11 10]\n",
      "\n",
      "crcStatus unique data points: [1]\n"
     ]
    }
   ],
   "source": [
    "print('BW unique data points:', data['BW'].unique())\n",
    "print('\\nChan unique data points:', data['Chan'].unique())\n",
    "print('\\nFreq unique data points:', data['Freq'].unique())\n",
    "print('\\nSPF unique data points:', data['SPF'].unique())\n",
    "print('\\ncrcStatus unique data points:', data['crcStatus'].unique())"
   ]
  },
  {
   "cell_type": "markdown",
   "metadata": {},
   "source": [
    "Lets now deal with RSSI."
   ]
  },
  {
   "cell_type": "code",
   "execution_count": 10,
   "metadata": {},
   "outputs": [
    {
     "data": {
      "text/plain": [
       "0      -120\n",
       "1       -58\n",
       "2    -118,8\n",
       "3      -115\n",
       "4      -115\n",
       "Name: RSSI, dtype: object"
      ]
     },
     "execution_count": 10,
     "metadata": {},
     "output_type": "execute_result"
    }
   ],
   "source": [
    "data['RSSI'].head()"
   ]
  },
  {
   "cell_type": "markdown",
   "metadata": {},
   "source": [
    "RSSI values are stored as objects inside of the DataFrame because of the comma separating decimal part of the number. It is important to replace every comma for dot."
   ]
  },
  {
   "cell_type": "code",
   "execution_count": 11,
   "metadata": {},
   "outputs": [],
   "source": [
    "data['RSSI'] = [x.replace(',', '.') for x in data['RSSI']]"
   ]
  },
  {
   "cell_type": "code",
   "execution_count": 12,
   "metadata": {},
   "outputs": [
    {
     "data": {
      "text/plain": [
       "0      -120\n",
       "1       -58\n",
       "2    -118.8\n",
       "3      -115\n",
       "4      -115\n",
       "Name: RSSI, dtype: object"
      ]
     },
     "execution_count": 12,
     "metadata": {},
     "output_type": "execute_result"
    }
   ],
   "source": [
    "data['RSSI'].head()"
   ]
  },
  {
   "cell_type": "markdown",
   "metadata": {},
   "source": [
    "Great! Now the object should be converted to float64 data type.\n",
    "\n",
    "Using to_numeric() method provided by Pandas this is possible, putting parameter *errors='coerce'* every missing value or exception will be projected as NaN."
   ]
  },
  {
   "cell_type": "code",
   "execution_count": 13,
   "metadata": {},
   "outputs": [],
   "source": [
    "data['RSSI'] = pd.to_numeric(data.RSSI, errors='coerce')"
   ]
  },
  {
   "cell_type": "code",
   "execution_count": 14,
   "metadata": {},
   "outputs": [
    {
     "data": {
      "text/plain": [
       "0   -120.0\n",
       "1    -58.0\n",
       "2   -118.8\n",
       "3   -115.0\n",
       "4   -115.0\n",
       "Name: RSSI, dtype: float64"
      ]
     },
     "execution_count": 14,
     "metadata": {},
     "output_type": "execute_result"
    }
   ],
   "source": [
    "data['RSSI'].head()"
   ]
  },
  {
   "cell_type": "markdown",
   "metadata": {},
   "source": [
    "Basic stats and visualization for RSSI:"
   ]
  },
  {
   "cell_type": "code",
   "execution_count": 15,
   "metadata": {},
   "outputs": [
    {
     "data": {
      "text/plain": [
       "count    689396.000000\n",
       "mean       -101.294723\n",
       "std          22.335990\n",
       "min        -193.200000\n",
       "25%        -118.000000\n",
       "50%        -112.500000\n",
       "75%         -81.000000\n",
       "max         120.000000\n",
       "Name: RSSI, dtype: float64"
      ]
     },
     "execution_count": 15,
     "metadata": {},
     "output_type": "execute_result"
    }
   ],
   "source": [
    "data['RSSI'].describe()"
   ]
  },
  {
   "cell_type": "code",
   "execution_count": 16,
   "metadata": {},
   "outputs": [
    {
     "data": {
      "image/png": "[encoded data removed]",
      "text/plain": [
       "<Figure size 432x288 with 1 Axes>"
      ]
     },
     "metadata": {
      "needs_background": "light"
     },
     "output_type": "display_data"
    }
   ],
   "source": [
    "data['RSSI'].hist(bins=100)\n",
    "plt.show()"
   ]
  },
  {
   "cell_type": "markdown",
   "metadata": {},
   "source": [
    "## Non-numerical data"
   ]
  },
  {
   "cell_type": "markdown",
   "metadata": {},
   "source": [
    "First, **dataRate** seems to be some kind of JSON formatted data."
   ]
  },
  {
   "cell_type": "code",
   "execution_count": 17,
   "metadata": {},
   "outputs": [
    {
     "data": {
      "text/plain": [
       "0    {u'modulation': u'LORA', u'bandwidth': 125, u'...\n",
       "1    {u'modulation': u'LORA', u'bandwidth': 125, u'...\n",
       "2    {u'modulation': u'LORA', u'bandwidth': 125, u'...\n",
       "3    {u'modulation': u'LORA', u'bandwidth': 125, u'...\n",
       "4    {u'modulation': u'LORA', u'bandwidth': 125, u'...\n",
       "Name: dataRate, dtype: object"
      ]
     },
     "execution_count": 17,
     "metadata": {},
     "output_type": "execute_result"
    }
   ],
   "source": [
    "data.dataRate.head()"
   ]
  },
  {
   "cell_type": "markdown",
   "metadata": {},
   "source": [
    "**Time** is printed as regular date-time object.\n",
    "\n",
    "**DevAddr** which represents 32bit dynamically assigned (not-unique) ID. "
   ]
  },
  {
   "cell_type": "code",
   "execution_count": 18,
   "metadata": {},
   "outputs": [
    {
     "data": {
      "text/plain": [
       "0    000013c1\n",
       "1    000013b8\n",
       "2    000013bf\n",
       "3    000013bf\n",
       "4    000013bf\n",
       "Name: DevAddr, dtype: object"
      ]
     },
     "execution_count": 18,
     "metadata": {},
     "output_type": "execute_result"
    }
   ],
   "source": [
    "data.DevAddr.head()"
   ]
  },
  {
   "cell_type": "markdown",
   "metadata": {},
   "source": [
    "Lets see how it looks like in binary."
   ]
  },
  {
   "cell_type": "code",
   "execution_count": 19,
   "metadata": {},
   "outputs": [
    {
     "data": {
      "text/plain": [
       "'000013b7'"
      ]
     },
     "execution_count": 19,
     "metadata": {},
     "output_type": "execute_result"
    }
   ],
   "source": [
    "from random import randint\n",
    "\n",
    "hex_DevAddr_dp = data.DevAddr.iloc[randint(0,689396)]\n",
    "hex_DevAddr_dp"
   ]
  },
  {
   "cell_type": "code",
   "execution_count": 20,
   "metadata": {},
   "outputs": [
    {
     "data": {
      "text/plain": [
       "'00000000000000000001001110110111'"
      ]
     },
     "execution_count": 20,
     "metadata": {},
     "output_type": "execute_result"
    }
   ],
   "source": [
    "scale = 16 # equals to hexadecimal\n",
    "\n",
    "num_of_bits = 32\n",
    "\n",
    "bin(int(hex_DevAddr_dp, scale))[2:].zfill(num_of_bits)"
   ]
  },
  {
   "cell_type": "markdown",
   "metadata": {},
   "source": [
    "There is single column labeled as **4/5**:"
   ]
  },
  {
   "cell_type": "code",
   "execution_count": 21,
   "metadata": {},
   "outputs": [
    {
     "data": {
      "text/plain": [
       "0     4/5\n",
       "1     4/5\n",
       "2     4/5\n",
       "3     4/5\n",
       "4     4/5\n",
       "Name:  4/5, dtype: object"
      ]
     },
     "execution_count": 21,
     "metadata": {},
     "output_type": "execute_result"
    }
   ],
   "source": [
    "data[' 4/5'].head()"
   ]
  },
  {
   "cell_type": "markdown",
   "metadata": {},
   "source": [
    "...and there is nothing except ' '4/5 in the whole column:"
   ]
  },
  {
   "cell_type": "code",
   "execution_count": 22,
   "metadata": {},
   "outputs": [
    {
     "name": "stdout",
     "output_type": "stream",
     "text": [
      " 4/5 unique data points: [' 4/5']\n"
     ]
    }
   ],
   "source": [
    "print(' 4/5 unique data points:', data[' 4/5'].unique())"
   ]
  },
  {
   "cell_type": "markdown",
   "metadata": {},
   "source": [
    "**macPayload** looks something like this:"
   ]
  },
  {
   "cell_type": "code",
   "execution_count": 23,
   "metadata": {},
   "outputs": [
    {
     "data": {
      "text/plain": [
       "0    c1130000804605039977d43d70b12724eea946c5a41f42...\n",
       "1    b813000000142b0352619fc9a89e0e561d060ca3ac29e5...\n",
       "2    bf13000080ba30042ea26888992702442c832fc2c8ac91...\n",
       "3    bf13000080bb30030a96702f4ebe2cfe8559765a622344...\n",
       "4    bf13000080bb30030a96702f4ebe2cfe8559765a622344...\n",
       "Name: macPayload, dtype: object"
      ]
     },
     "execution_count": 23,
     "metadata": {},
     "output_type": "execute_result"
    }
   ],
   "source": [
    "data['macPayload'].head()"
   ]
  },
  {
   "cell_type": "markdown",
   "metadata": {},
   "source": [
    "...and it varies in length."
   ]
  },
  {
   "cell_type": "markdown",
   "metadata": {},
   "source": [
    "**mType** column:"
   ]
  },
  {
   "cell_type": "code",
   "execution_count": 24,
   "metadata": {},
   "outputs": [
    {
     "data": {
      "text/plain": [
       "0    Confirmed Data Up\n",
       "1    Confirmed Data Up\n",
       "2    Confirmed Data Up\n",
       "3    Confirmed Data Up\n",
       "4    Confirmed Data Up\n",
       "Name: mType, dtype: object"
      ]
     },
     "execution_count": 24,
     "metadata": {},
     "output_type": "execute_result"
    }
   ],
   "source": [
    "data['mType'].head()"
   ]
  },
  {
   "cell_type": "markdown",
   "metadata": {},
   "source": [
    "There are few different categories:"
   ]
  },
  {
   "cell_type": "code",
   "execution_count": 25,
   "metadata": {},
   "outputs": [
    {
     "name": "stdout",
     "output_type": "stream",
     "text": [
      "mType unique data points: ['Confirmed Data Up' 'Proprietary' 'RFU' 'Confirmed Data Down'\n",
      " 'Join Request' 'Unconfirmed Data Down' 'Unconfirmed Data Up'\n",
      " 'Join Accept']\n"
     ]
    }
   ],
   "source": [
    "print('mType unique data points:', data['mType'].unique())"
   ]
  },
  {
   "cell_type": "markdown",
   "metadata": {},
   "source": [
    "Lastly, **_id** presents some kind of identification."
   ]
  },
  {
   "cell_type": "code",
   "execution_count": 26,
   "metadata": {},
   "outputs": [
    {
     "data": {
      "text/plain": [
       "0    586a34acb5866106ea976eb5\n",
       "1    586a34aeb5866106ea976eb6\n",
       "2    586a34bdb5866106ea976eb7\n",
       "3    586a34c8b5866106ea976eb8\n",
       "4    586a34c8b5866106ea976eb9\n",
       "Name: _id, dtype: object"
      ]
     },
     "execution_count": 26,
     "metadata": {},
     "output_type": "execute_result"
    }
   ],
   "source": [
    "data['_id'].head()"
   ]
  },
  {
   "cell_type": "markdown",
   "metadata": {},
   "source": [
    "## CDF"
   ]
  },
  {
   "cell_type": "markdown",
   "metadata": {},
   "source": [
    "Few plots for numerical values in dataset..."
   ]
  },
  {
   "cell_type": "code",
   "execution_count": 27,
   "metadata": {},
   "outputs": [],
   "source": [
    "def ecdf(data):\n",
    "    \"\"\" Computing ECDF for a one-dimensional array of measurements. \"\"\"\n",
    "    n = len(data)\n",
    "\n",
    "    x = np.sort(data)\n",
    "    y = np.arange(1,n+1)/n\n",
    "\n",
    "    return x, y"
   ]
  },
  {
   "cell_type": "markdown",
   "metadata": {},
   "source": [
    "Lets see how RSSI and SNR are distributed."
   ]
  },
  {
   "cell_type": "code",
   "execution_count": 28,
   "metadata": {},
   "outputs": [
    {
     "data": {
      "image/png": "[encoded data removed]",
      "text/plain": [
       "<Figure size 432x288 with 1 Axes>"
      ]
     },
     "metadata": {
      "needs_background": "light"
     },
     "output_type": "display_data"
    }
   ],
   "source": [
    "x_rssi, y_rssi = ecdf(data['RSSI'])\n",
    "_ = plt.plot(x_rssi, y_rssi, marker='.', linestyle='none')\n",
    "plt.show()"
   ]
  },
  {
   "cell_type": "code",
   "execution_count": 29,
   "metadata": {},
   "outputs": [
    {
     "data": {
      "image/png": "[encoded data removed]",
      "text/plain": [
       "<Figure size 432x288 with 1 Axes>"
      ]
     },
     "metadata": {
      "needs_background": "light"
     },
     "output_type": "display_data"
    }
   ],
   "source": [
    "x_snr, y_snr = ecdf(data['SNR'])\n",
    "_ = plt.plot(x_snr, y_snr, marker='.', linestyle='none', color='r')\n",
    "plt.show()"
   ]
  }
 ],
 "metadata": {
  "kernelspec": {
   "display_name": "Python 3",
   "language": "python",
   "name": "python3"
  },
  "language_info": {
   "codemirror_mode": {
    "name": "ipython",
    "version": 3
   },
   "file_extension": ".py",
   "mimetype": "text/x-python",
   "name": "python",
   "nbconvert_exporter": "python",
   "pygments_lexer": "ipython3",
   "version": "3.7.1"
  }
 },
 "nbformat": 4,
 "nbformat_minor": 2
}
