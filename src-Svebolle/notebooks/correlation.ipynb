{
 "cells": [
  {
   "cell_type": "code",
   "execution_count": 1,
   "metadata": {},
   "outputs": [],
   "source": [
    "import os\n",
    "import pandas as pd\n",
    "import numpy as np \n",
    "import matplotlib.pyplot as plt \n",
    "\n",
    "DATASET_PATH = '/home/alk/aau/datasets'\n",
    "SVEBOLLE_PATH = os.path.join(DATASET_PATH, 'Svebolle')\n",
    "SVEBOLLE_CSV = 'LORA_data.csv'\n",
    "\n",
    "def load_data(path, csv_file, sep=','):\n",
    "    \"return DataFrame with data from dataset\"\n",
    "    csv_path = os.path.join(path, csv_file)\n",
    "    return pd.read_csv(csv_path, sep) # sep by default is comma"
   ]
  },
  {
   "cell_type": "code",
   "execution_count": 2,
   "metadata": {},
   "outputs": [],
   "source": [
    "df = load_data(SVEBOLLE_PATH, SVEBOLLE_CSV, sep=';')"
   ]
  },
  {
   "cell_type": "code",
   "execution_count": 3,
   "metadata": {},
   "outputs": [],
   "source": [
    "# make RSSI numerical value\n",
    "df['RSSI'] = [x.replace(',', '.') for x in df.RSSI]\n",
    "# missing values will be interpreted as Nan\n",
    "df['RSSI'] = pd.to_numeric(df.RSSI, errors='coerce')"
   ]
  },
  {
   "cell_type": "code",
   "execution_count": 4,
   "metadata": {},
   "outputs": [
    {
     "name": "stdout",
     "output_type": "stream",
     "text": [
      "<class 'pandas.core.frame.DataFrame'>\n",
      "RangeIndex: 689396 entries, 0 to 689395\n",
      "Data columns (total 14 columns):\n",
      "Time          689396 non-null object\n",
      "DevAddr       689276 non-null object\n",
      "Freq          689396 non-null int64\n",
      "Chan          689396 non-null int64\n",
      "BW            689396 non-null int64\n",
      "SPF           689396 non-null int64\n",
      "RSSI          689396 non-null float64\n",
      "SNR           689396 non-null float64\n",
      "codeRate      689396 non-null object\n",
      "dataRate      689396 non-null object\n",
      "crcStatus     689396 non-null int64\n",
      "mType         689396 non-null object\n",
      "macPayload    689396 non-null object\n",
      "_id           689396 non-null object\n",
      "dtypes: float64(2), int64(5), object(7)\n",
      "memory usage: 73.6+ MB\n"
     ]
    }
   ],
   "source": [
    "# fix code rate column\n",
    "df.rename(columns={' 4/5':'codeRate'}, inplace=True)\n",
    "df.info()"
   ]
  },
  {
   "cell_type": "code",
   "execution_count": 5,
   "metadata": {},
   "outputs": [],
   "source": [
    "df['codeRate'] = [x.replace(' ', '') for x in df.codeRate]"
   ]
  },
  {
   "cell_type": "code",
   "execution_count": 6,
   "metadata": {},
   "outputs": [],
   "source": [
    "df['codeRate'] = [0.8 for x in df.codeRate if x=='4/5']"
   ]
  },
  {
   "cell_type": "code",
   "execution_count": 7,
   "metadata": {},
   "outputs": [
    {
     "data": {
      "text/plain": [
       "0    0.8\n",
       "1    0.8\n",
       "2    0.8\n",
       "3    0.8\n",
       "4    0.8\n",
       "Name: codeRate, dtype: float64"
      ]
     },
     "execution_count": 7,
     "metadata": {},
     "output_type": "execute_result"
    }
   ],
   "source": [
    "df['codeRate'].head()"
   ]
  },
  {
   "cell_type": "code",
   "execution_count": 8,
   "metadata": {},
   "outputs": [],
   "source": [
    "df.dataRate = df.SPF * df.BW * df.codeRate / (2**df.SPF) * 1000"
   ]
  },
  {
   "cell_type": "code",
   "execution_count": 9,
   "metadata": {},
   "outputs": [],
   "source": [
    "df.Freq = df.Freq / 10**6"
   ]
  },
  {
   "cell_type": "code",
   "execution_count": 10,
   "metadata": {},
   "outputs": [],
   "source": [
    "df['macPayloadLen'] = df.macPayload.str.len() * 4"
   ]
  },
  {
   "cell_type": "code",
   "execution_count": 11,
   "metadata": {},
   "outputs": [
    {
     "data": {
      "text/html": [
       "<div>\n",
       "<style scoped>\n",
       "    .dataframe tbody tr th:only-of-type {\n",
       "        vertical-align: middle;\n",
       "    }\n",
       "\n",
       "    .dataframe tbody tr th {\n",
       "        vertical-align: top;\n",
       "    }\n",
       "\n",
       "    .dataframe thead th {\n",
       "        text-align: right;\n",
       "    }\n",
       "</style>\n",
       "<table border=\"1\" class=\"dataframe\">\n",
       "  <thead>\n",
       "    <tr style=\"text-align: right;\">\n",
       "      <th></th>\n",
       "      <th>Time</th>\n",
       "      <th>DevAddr</th>\n",
       "      <th>Freq</th>\n",
       "      <th>Chan</th>\n",
       "      <th>BW</th>\n",
       "      <th>SPF</th>\n",
       "      <th>RSSI</th>\n",
       "      <th>SNR</th>\n",
       "      <th>codeRate</th>\n",
       "      <th>dataRate</th>\n",
       "      <th>crcStatus</th>\n",
       "      <th>mType</th>\n",
       "      <th>macPayload</th>\n",
       "      <th>_id</th>\n",
       "      <th>macPayloadLen</th>\n",
       "    </tr>\n",
       "  </thead>\n",
       "  <tbody>\n",
       "    <tr>\n",
       "      <th>0</th>\n",
       "      <td>2017-01-02 12:08:27.788000</td>\n",
       "      <td>000013c1</td>\n",
       "      <td>868.1</td>\n",
       "      <td>0</td>\n",
       "      <td>125</td>\n",
       "      <td>7</td>\n",
       "      <td>-120.0</td>\n",
       "      <td>-1.0</td>\n",
       "      <td>0.8</td>\n",
       "      <td>5468.75</td>\n",
       "      <td>1</td>\n",
       "      <td>Confirmed Data Up</td>\n",
       "      <td>c1130000804605039977d43d70b12724eea946c5a41f42...</td>\n",
       "      <td>586a34acb5866106ea976eb5</td>\n",
       "      <td>716</td>\n",
       "    </tr>\n",
       "    <tr>\n",
       "      <th>1</th>\n",
       "      <td>2017-01-02 12:08:29.196000</td>\n",
       "      <td>000013b8</td>\n",
       "      <td>868.5</td>\n",
       "      <td>2</td>\n",
       "      <td>125</td>\n",
       "      <td>7</td>\n",
       "      <td>-58.0</td>\n",
       "      <td>6.5</td>\n",
       "      <td>0.8</td>\n",
       "      <td>5468.75</td>\n",
       "      <td>1</td>\n",
       "      <td>Confirmed Data Up</td>\n",
       "      <td>b813000000142b0352619fc9a89e0e561d060ca3ac29e5...</td>\n",
       "      <td>586a34aeb5866106ea976eb6</td>\n",
       "      <td>492</td>\n",
       "    </tr>\n",
       "    <tr>\n",
       "      <th>2</th>\n",
       "      <td>2017-01-02 12:08:44.520000</td>\n",
       "      <td>000013bf</td>\n",
       "      <td>868.3</td>\n",
       "      <td>1</td>\n",
       "      <td>125</td>\n",
       "      <td>7</td>\n",
       "      <td>-118.8</td>\n",
       "      <td>-1.8</td>\n",
       "      <td>0.8</td>\n",
       "      <td>5468.75</td>\n",
       "      <td>1</td>\n",
       "      <td>Confirmed Data Up</td>\n",
       "      <td>bf13000080ba30042ea26888992702442c832fc2c8ac91...</td>\n",
       "      <td>586a34bdb5866106ea976eb7</td>\n",
       "      <td>492</td>\n",
       "    </tr>\n",
       "    <tr>\n",
       "      <th>3</th>\n",
       "      <td>2017-01-02 12:08:55.347000</td>\n",
       "      <td>000013bf</td>\n",
       "      <td>868.5</td>\n",
       "      <td>2</td>\n",
       "      <td>125</td>\n",
       "      <td>7</td>\n",
       "      <td>-115.0</td>\n",
       "      <td>1.8</td>\n",
       "      <td>0.8</td>\n",
       "      <td>5468.75</td>\n",
       "      <td>1</td>\n",
       "      <td>Confirmed Data Up</td>\n",
       "      <td>bf13000080bb30030a96702f4ebe2cfe8559765a622344...</td>\n",
       "      <td>586a34c8b5866106ea976eb8</td>\n",
       "      <td>716</td>\n",
       "    </tr>\n",
       "    <tr>\n",
       "      <th>4</th>\n",
       "      <td>2017-01-02 12:08:55.346000</td>\n",
       "      <td>000013bf</td>\n",
       "      <td>868.5</td>\n",
       "      <td>2</td>\n",
       "      <td>125</td>\n",
       "      <td>7</td>\n",
       "      <td>-115.0</td>\n",
       "      <td>1.8</td>\n",
       "      <td>0.8</td>\n",
       "      <td>5468.75</td>\n",
       "      <td>1</td>\n",
       "      <td>Confirmed Data Up</td>\n",
       "      <td>bf13000080bb30030a96702f4ebe2cfe8559765a622344...</td>\n",
       "      <td>586a34c8b5866106ea976eb9</td>\n",
       "      <td>716</td>\n",
       "    </tr>\n",
       "  </tbody>\n",
       "</table>\n",
       "</div>"
      ],
      "text/plain": [
       "                         Time   DevAddr   Freq  Chan   BW  SPF   RSSI  SNR  \\\n",
       "0  2017-01-02 12:08:27.788000  000013c1  868.1     0  125    7 -120.0 -1.0   \n",
       "1  2017-01-02 12:08:29.196000  000013b8  868.5     2  125    7  -58.0  6.5   \n",
       "2  2017-01-02 12:08:44.520000  000013bf  868.3     1  125    7 -118.8 -1.8   \n",
       "3  2017-01-02 12:08:55.347000  000013bf  868.5     2  125    7 -115.0  1.8   \n",
       "4  2017-01-02 12:08:55.346000  000013bf  868.5     2  125    7 -115.0  1.8   \n",
       "\n",
       "   codeRate  dataRate  crcStatus              mType  \\\n",
       "0       0.8   5468.75          1  Confirmed Data Up   \n",
       "1       0.8   5468.75          1  Confirmed Data Up   \n",
       "2       0.8   5468.75          1  Confirmed Data Up   \n",
       "3       0.8   5468.75          1  Confirmed Data Up   \n",
       "4       0.8   5468.75          1  Confirmed Data Up   \n",
       "\n",
       "                                          macPayload  \\\n",
       "0  c1130000804605039977d43d70b12724eea946c5a41f42...   \n",
       "1  b813000000142b0352619fc9a89e0e561d060ca3ac29e5...   \n",
       "2  bf13000080ba30042ea26888992702442c832fc2c8ac91...   \n",
       "3  bf13000080bb30030a96702f4ebe2cfe8559765a622344...   \n",
       "4  bf13000080bb30030a96702f4ebe2cfe8559765a622344...   \n",
       "\n",
       "                        _id  macPayloadLen  \n",
       "0  586a34acb5866106ea976eb5            716  \n",
       "1  586a34aeb5866106ea976eb6            492  \n",
       "2  586a34bdb5866106ea976eb7            492  \n",
       "3  586a34c8b5866106ea976eb8            716  \n",
       "4  586a34c8b5866106ea976eb9            716  "
      ]
     },
     "execution_count": 11,
     "metadata": {},
     "output_type": "execute_result"
    }
   ],
   "source": [
    "df.head()"
   ]
  },
  {
   "cell_type": "code",
   "execution_count": 12,
   "metadata": {},
   "outputs": [
    {
     "name": "stdout",
     "output_type": "stream",
     "text": [
      "<class 'pandas.core.frame.DataFrame'>\n",
      "RangeIndex: 689396 entries, 0 to 689395\n",
      "Data columns (total 15 columns):\n",
      "Time             689396 non-null object\n",
      "DevAddr          689276 non-null object\n",
      "Freq             689396 non-null float64\n",
      "Chan             689396 non-null int64\n",
      "BW               689396 non-null int64\n",
      "SPF              689396 non-null int64\n",
      "RSSI             689396 non-null float64\n",
      "SNR              689396 non-null float64\n",
      "codeRate         689396 non-null float64\n",
      "dataRate         689396 non-null float64\n",
      "crcStatus        689396 non-null int64\n",
      "mType            689396 non-null object\n",
      "macPayload       689396 non-null object\n",
      "_id              689396 non-null object\n",
      "macPayloadLen    689396 non-null int64\n",
      "dtypes: float64(5), int64(5), object(5)\n",
      "memory usage: 78.9+ MB\n"
     ]
    }
   ],
   "source": [
    "df.info()"
   ]
  },
  {
   "cell_type": "code",
   "execution_count": 13,
   "metadata": {},
   "outputs": [
    {
     "data": {
      "text/plain": [
       "array([ 7, 12,  8,  9, 11, 10])"
      ]
     },
     "execution_count": 13,
     "metadata": {},
     "output_type": "execute_result"
    }
   ],
   "source": [
    "df.SPF.unique()"
   ]
  },
  {
   "cell_type": "code",
   "execution_count": 14,
   "metadata": {},
   "outputs": [
    {
     "data": {
      "text/plain": [
       "7     0.938845\n",
       "12    0.054395\n",
       "8     0.003046\n",
       "9     0.001900\n",
       "10    0.001385\n",
       "11    0.000428\n",
       "Name: SPF, dtype: float64"
      ]
     },
     "execution_count": 14,
     "metadata": {},
     "output_type": "execute_result"
    }
   ],
   "source": [
    "from sklearn.model_selection import StratifiedShuffleSplit\n",
    "\n",
    "split = StratifiedShuffleSplit(n_splits=1, test_size=0.2, random_state=42)\n",
    "for train_index, test_index in split.split(df, df['SPF']):\n",
    "    strat_train_set = df.loc[train_index]\n",
    "    strat_test_set = df.loc[test_index]\n",
    "    \n",
    "strat_test_set['SPF'].value_counts() / len(strat_test_set)    "
   ]
  },
  {
   "cell_type": "code",
   "execution_count": 15,
   "metadata": {},
   "outputs": [],
   "source": [
    "data = strat_train_set.copy()"
   ]
  },
  {
   "cell_type": "markdown",
   "metadata": {},
   "source": [
    "Correlation between every pair of attributes using the corr() method:"
   ]
  },
  {
   "cell_type": "code",
   "execution_count": 16,
   "metadata": {},
   "outputs": [],
   "source": [
    "corr_matrix = data.corr()"
   ]
  },
  {
   "cell_type": "code",
   "execution_count": 17,
   "metadata": {},
   "outputs": [
    {
     "data": {
      "text/plain": [
       "RSSI             1.000000e+00\n",
       "SNR              8.277945e-01\n",
       "Freq             4.395959e-01\n",
       "dataRate         2.285058e-01\n",
       "macPayloadLen    9.382098e-03\n",
       "BW               6.779804e-03\n",
       "codeRate         2.567466e-13\n",
       "SPF             -2.245127e-01\n",
       "Chan            -4.391790e-01\n",
       "crcStatus                 NaN\n",
       "Name: RSSI, dtype: float64"
      ]
     },
     "execution_count": 17,
     "metadata": {},
     "output_type": "execute_result"
    }
   ],
   "source": [
    "corr_matrix['RSSI'].sort_values(ascending=False)"
   ]
  },
  {
   "cell_type": "markdown",
   "metadata": {},
   "source": [
    "The correlation coefficient ranges from -1 to 1:\n",
    "* close to 1 - there is a strong positive correlation\n",
    "* close to -1 - there is strong negative correlation\n",
    "* close to zero - no linear correlation\n",
    "\n",
    "Another way to check for correlation between attributes is scatter_matrix function embedded in Pandas. There is a lot of numerical attributes it is important to interesting ones."
   ]
  },
  {
   "cell_type": "code",
   "execution_count": 18,
   "metadata": {},
   "outputs": [
    {
     "name": "stderr",
     "output_type": "stream",
     "text": [
      "/home/alk/anaconda3/lib/python3.7/site-packages/pandas/plotting/_misc.py:108: UserWarning: Attempting to set identical left==right results\n",
      "in singular transformations; automatically expanding.\n",
      "left=1.0, right=1.0\n",
      "  ax.set_xlim(boundaries_list[j])\n",
      "/home/alk/anaconda3/lib/python3.7/site-packages/pandas/plotting/_misc.py:109: UserWarning: Attempting to set identical bottom==top results\n",
      "in singular transformations; automatically expanding.\n",
      "bottom=1.0, top=1.0\n",
      "  ax.set_ylim(boundaries_list[i])\n",
      "/home/alk/anaconda3/lib/python3.7/site-packages/pandas/plotting/_misc.py:100: UserWarning: Attempting to set identical left==right results\n",
      "in singular transformations; automatically expanding.\n",
      "left=1.0, right=1.0\n",
      "  ax.set_xlim(boundaries_list[i])\n"
     ]
    },
    {
     "data": {
      "image/png": "[encoded data removed]",
      "text/plain": [
       "<Figure size 432x288 with 25 Axes>"
      ]
     },
     "metadata": {
      "needs_background": "light"
     },
     "output_type": "display_data"
    }
   ],
   "source": [
    "from pandas.plotting import scatter_matrix\n",
    "\n",
    "attributes = ['RSSI', 'SNR', 'dataRate', 'Chan', 'crcStatus']\n",
    "scatter_matrix(data[attributes])\n",
    "plt.show()"
   ]
  },
  {
   "cell_type": "code",
   "execution_count": null,
   "metadata": {},
   "outputs": [],
   "source": []
  }
 ],
 "metadata": {
  "kernelspec": {
   "display_name": "Python 3",
   "language": "python",
   "name": "python3"
  },
  "language_info": {
   "codemirror_mode": {
    "name": "ipython",
    "version": 3
   },
   "file_extension": ".py",
   "mimetype": "text/x-python",
   "name": "python",
   "nbconvert_exporter": "python",
   "pygments_lexer": "ipython3",
   "version": "3.7.1"
  }
 },
 "nbformat": 4,
 "nbformat_minor": 2
}
