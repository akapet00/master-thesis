{
 "cells": [
  {
   "cell_type": "markdown",
   "metadata": {},
   "source": [
    "# Getting the Data"
   ]
  },
  {
   "cell_type": "markdown",
   "metadata": {},
   "source": [
    "Libraries:"
   ]
  },
  {
   "cell_type": "code",
   "execution_count": 1,
   "metadata": {},
   "outputs": [],
   "source": [
    "import os \n",
    "import pandas as pd\n",
    "import matplotlib.pyplot as plt\n",
    "import numpy as np\n",
    "\n",
    "%matplotlib inline"
   ]
  },
  {
   "cell_type": "markdown",
   "metadata": {},
   "source": [
    "Dataset path as global variables."
   ]
  },
  {
   "cell_type": "code",
   "execution_count": 2,
   "metadata": {},
   "outputs": [],
   "source": [
    "DATASET_PATH = '/home/alk/aau/datasets'\n",
    "\n",
    "SVEBOLLE_PATH = os.path.join(DATASET_PATH, 'Svebolle')\n",
    "SVEBOLLE_CSV = 'LORA_data.csv'"
   ]
  },
  {
   "cell_type": "markdown",
   "metadata": {},
   "source": [
    "Creating method for data loading."
   ]
  },
  {
   "cell_type": "code",
   "execution_count": 13,
   "metadata": {},
   "outputs": [],
   "source": [
    "import requests\n",
    "def get_data(url, path, force_download=False, separator=';'):\n",
    "    \"\"\"Download and cache the Svebolle data\n",
    "    \n",
    "    Parameters\\n\n",
    "    ----------\\n\n",
    "    path: string (optional)\\n\n",
    "        location to save the data\\n\n",
    "    url: string (optional)\\n\n",
    "        web location of the data\\n\n",
    "    force_download: bool (optional)\\n\n",
    "        if True, force redownloading of data\\n\n",
    "    Returns\\n\n",
    "    -------\\n\n",
    "    data: pandas.DataFrame\\n\n",
    "        the Svebolle deployment measurement dataset\\n\n",
    "    \"\"\"\n",
    "    if force_download or not os.path.exists(os.path.join(path, 'LORA_data.csv')):\n",
    "        r = requests.get(url)\n",
    "        z = zipfile.ZipFile(io.BytesIO(r.content))\n",
    "        z.extractall(path)\n",
    "    data = pd.read_csv(os.path.join(path, 'LORA_data.csv'), sep=separator)\n",
    "    return data"
   ]
  },
  {
   "cell_type": "markdown",
   "metadata": {},
   "source": [
    "Lets start with larger and cleaner data from Svebolle."
   ]
  },
  {
   "cell_type": "code",
   "execution_count": 14,
   "metadata": {},
   "outputs": [
    {
     "ename": "NameError",
     "evalue": "name 'zipfile' is not defined",
     "output_type": "error",
     "traceback": [
      "\u001b[0;31m---------------------------------------------------------------------------\u001b[0m",
      "\u001b[0;31mNameError\u001b[0m                                 Traceback (most recent call last)",
      "\u001b[0;32m<ipython-input-14-86d19d5e0d3a>\u001b[0m in \u001b[0;36m<module>\u001b[0;34m\u001b[0m\n\u001b[1;32m      2\u001b[0m \u001b[0;34m\u001b[0m\u001b[0m\n\u001b[1;32m      3\u001b[0m data = get_data(url='https://www.dropbox.com/sh/yramhj65py4tsr6/AABhfGJGIagJYpCuxtVzWj_Ua?dl=1',\n\u001b[0;32m----> 4\u001b[0;31m                       path='~')\n\u001b[0m",
      "\u001b[0;32m<ipython-input-13-40544017f0d0>\u001b[0m in \u001b[0;36mget_data\u001b[0;34m(url, path, force_download, separator)\u001b[0m\n\u001b[1;32m     18\u001b[0m     \u001b[0;32mif\u001b[0m \u001b[0mforce_download\u001b[0m \u001b[0;32mor\u001b[0m \u001b[0;32mnot\u001b[0m \u001b[0mos\u001b[0m\u001b[0;34m.\u001b[0m\u001b[0mpath\u001b[0m\u001b[0;34m.\u001b[0m\u001b[0mexists\u001b[0m\u001b[0;34m(\u001b[0m\u001b[0mos\u001b[0m\u001b[0;34m.\u001b[0m\u001b[0mpath\u001b[0m\u001b[0;34m.\u001b[0m\u001b[0mjoin\u001b[0m\u001b[0;34m(\u001b[0m\u001b[0mpath\u001b[0m\u001b[0;34m,\u001b[0m \u001b[0;34m'LORA_data.csv'\u001b[0m\u001b[0;34m)\u001b[0m\u001b[0;34m)\u001b[0m\u001b[0;34m:\u001b[0m\u001b[0;34m\u001b[0m\u001b[0;34m\u001b[0m\u001b[0m\n\u001b[1;32m     19\u001b[0m         \u001b[0mr\u001b[0m \u001b[0;34m=\u001b[0m \u001b[0mrequests\u001b[0m\u001b[0;34m.\u001b[0m\u001b[0mget\u001b[0m\u001b[0;34m(\u001b[0m\u001b[0murl\u001b[0m\u001b[0;34m)\u001b[0m\u001b[0;34m\u001b[0m\u001b[0;34m\u001b[0m\u001b[0m\n\u001b[0;32m---> 20\u001b[0;31m         \u001b[0mz\u001b[0m \u001b[0;34m=\u001b[0m \u001b[0mzipfile\u001b[0m\u001b[0;34m.\u001b[0m\u001b[0mZipFile\u001b[0m\u001b[0;34m(\u001b[0m\u001b[0mio\u001b[0m\u001b[0;34m.\u001b[0m\u001b[0mBytesIO\u001b[0m\u001b[0;34m(\u001b[0m\u001b[0mr\u001b[0m\u001b[0;34m.\u001b[0m\u001b[0mcontent\u001b[0m\u001b[0;34m)\u001b[0m\u001b[0;34m)\u001b[0m\u001b[0;34m\u001b[0m\u001b[0;34m\u001b[0m\u001b[0m\n\u001b[0m\u001b[1;32m     21\u001b[0m         \u001b[0mz\u001b[0m\u001b[0;34m.\u001b[0m\u001b[0mextractall\u001b[0m\u001b[0;34m(\u001b[0m\u001b[0mpath\u001b[0m\u001b[0;34m)\u001b[0m\u001b[0;34m\u001b[0m\u001b[0;34m\u001b[0m\u001b[0m\n\u001b[1;32m     22\u001b[0m     \u001b[0mdata\u001b[0m \u001b[0;34m=\u001b[0m \u001b[0mpd\u001b[0m\u001b[0;34m.\u001b[0m\u001b[0mread_csv\u001b[0m\u001b[0;34m(\u001b[0m\u001b[0mos\u001b[0m\u001b[0;34m.\u001b[0m\u001b[0mpath\u001b[0m\u001b[0;34m.\u001b[0m\u001b[0mjoin\u001b[0m\u001b[0;34m(\u001b[0m\u001b[0mpath\u001b[0m\u001b[0;34m,\u001b[0m \u001b[0;34m'LORA_data.csv'\u001b[0m\u001b[0;34m)\u001b[0m\u001b[0;34m,\u001b[0m \u001b[0msep\u001b[0m\u001b[0;34m=\u001b[0m\u001b[0mseparator\u001b[0m\u001b[0;34m)\u001b[0m\u001b[0;34m\u001b[0m\u001b[0;34m\u001b[0m\u001b[0m\n",
      "\u001b[0;31mNameError\u001b[0m: name 'zipfile' is not defined"
     ]
    }
   ],
   "source": [
    "# this data set has semicolon separated values\n",
    "\n",
    "data = get_data(url='https://www.dropbox.com/sh/yramhj65py4tsr6/AABhfGJGIagJYpCuxtVzWj_Ua?dl=1',\n",
    "                      path='~')"
   ]
  },
  {
   "cell_type": "markdown",
   "metadata": {},
   "source": [
    "# Quick Overview of Svebolle Dataset"
   ]
  },
  {
   "cell_type": "markdown",
   "metadata": {},
   "source": [
    "First few rows of data:"
   ]
  },
  {
   "cell_type": "code",
   "execution_count": 5,
   "metadata": {},
   "outputs": [
    {
     "data": {
      "text/html": [
       "<div>\n",
       "<style scoped>\n",
       "    .dataframe tbody tr th:only-of-type {\n",
       "        vertical-align: middle;\n",
       "    }\n",
       "\n",
       "    .dataframe tbody tr th {\n",
       "        vertical-align: top;\n",
       "    }\n",
       "\n",
       "    .dataframe thead th {\n",
       "        text-align: right;\n",
       "    }\n",
       "</style>\n",
       "<table border=\"1\" class=\"dataframe\">\n",
       "  <thead>\n",
       "    <tr style=\"text-align: right;\">\n",
       "      <th></th>\n",
       "      <th>Time</th>\n",
       "      <th>DevAddr</th>\n",
       "      <th>Freq</th>\n",
       "      <th>Chan</th>\n",
       "      <th>BW</th>\n",
       "      <th>SPF</th>\n",
       "      <th>RSSI</th>\n",
       "      <th>SNR</th>\n",
       "      <th>4/5</th>\n",
       "      <th>dataRate</th>\n",
       "      <th>crcStatus</th>\n",
       "      <th>mType</th>\n",
       "      <th>macPayload</th>\n",
       "      <th>_id</th>\n",
       "    </tr>\n",
       "  </thead>\n",
       "  <tbody>\n",
       "    <tr>\n",
       "      <th>0</th>\n",
       "      <td>2017-01-02 12:08:27.788000</td>\n",
       "      <td>000013c1</td>\n",
       "      <td>868100000</td>\n",
       "      <td>0</td>\n",
       "      <td>125</td>\n",
       "      <td>7</td>\n",
       "      <td>-120</td>\n",
       "      <td>-1.0</td>\n",
       "      <td>4/5</td>\n",
       "      <td>{u'modulation': u'LORA', u'bandwidth': 125, u'...</td>\n",
       "      <td>1</td>\n",
       "      <td>Confirmed Data Up</td>\n",
       "      <td>c1130000804605039977d43d70b12724eea946c5a41f42...</td>\n",
       "      <td>586a34acb5866106ea976eb5</td>\n",
       "    </tr>\n",
       "    <tr>\n",
       "      <th>1</th>\n",
       "      <td>2017-01-02 12:08:29.196000</td>\n",
       "      <td>000013b8</td>\n",
       "      <td>868500000</td>\n",
       "      <td>2</td>\n",
       "      <td>125</td>\n",
       "      <td>7</td>\n",
       "      <td>-58</td>\n",
       "      <td>6.5</td>\n",
       "      <td>4/5</td>\n",
       "      <td>{u'modulation': u'LORA', u'bandwidth': 125, u'...</td>\n",
       "      <td>1</td>\n",
       "      <td>Confirmed Data Up</td>\n",
       "      <td>b813000000142b0352619fc9a89e0e561d060ca3ac29e5...</td>\n",
       "      <td>586a34aeb5866106ea976eb6</td>\n",
       "    </tr>\n",
       "    <tr>\n",
       "      <th>2</th>\n",
       "      <td>2017-01-02 12:08:44.520000</td>\n",
       "      <td>000013bf</td>\n",
       "      <td>868300000</td>\n",
       "      <td>1</td>\n",
       "      <td>125</td>\n",
       "      <td>7</td>\n",
       "      <td>-118,8</td>\n",
       "      <td>-1.8</td>\n",
       "      <td>4/5</td>\n",
       "      <td>{u'modulation': u'LORA', u'bandwidth': 125, u'...</td>\n",
       "      <td>1</td>\n",
       "      <td>Confirmed Data Up</td>\n",
       "      <td>bf13000080ba30042ea26888992702442c832fc2c8ac91...</td>\n",
       "      <td>586a34bdb5866106ea976eb7</td>\n",
       "    </tr>\n",
       "    <tr>\n",
       "      <th>3</th>\n",
       "      <td>2017-01-02 12:08:55.347000</td>\n",
       "      <td>000013bf</td>\n",
       "      <td>868500000</td>\n",
       "      <td>2</td>\n",
       "      <td>125</td>\n",
       "      <td>7</td>\n",
       "      <td>-115</td>\n",
       "      <td>1.8</td>\n",
       "      <td>4/5</td>\n",
       "      <td>{u'modulation': u'LORA', u'bandwidth': 125, u'...</td>\n",
       "      <td>1</td>\n",
       "      <td>Confirmed Data Up</td>\n",
       "      <td>bf13000080bb30030a96702f4ebe2cfe8559765a622344...</td>\n",
       "      <td>586a34c8b5866106ea976eb8</td>\n",
       "    </tr>\n",
       "    <tr>\n",
       "      <th>4</th>\n",
       "      <td>2017-01-02 12:08:55.346000</td>\n",
       "      <td>000013bf</td>\n",
       "      <td>868500000</td>\n",
       "      <td>2</td>\n",
       "      <td>125</td>\n",
       "      <td>7</td>\n",
       "      <td>-115</td>\n",
       "      <td>1.8</td>\n",
       "      <td>4/5</td>\n",
       "      <td>{u'modulation': u'LORA', u'bandwidth': 125, u'...</td>\n",
       "      <td>1</td>\n",
       "      <td>Confirmed Data Up</td>\n",
       "      <td>bf13000080bb30030a96702f4ebe2cfe8559765a622344...</td>\n",
       "      <td>586a34c8b5866106ea976eb9</td>\n",
       "    </tr>\n",
       "    <tr>\n",
       "      <th>5</th>\n",
       "      <td>2017-01-02 12:09:00.488000</td>\n",
       "      <td>000013b7</td>\n",
       "      <td>868100000</td>\n",
       "      <td>0</td>\n",
       "      <td>125</td>\n",
       "      <td>7</td>\n",
       "      <td>-83</td>\n",
       "      <td>8.5</td>\n",
       "      <td>4/5</td>\n",
       "      <td>{u'modulation': u'LORA', u'bandwidth': 125, u'...</td>\n",
       "      <td>1</td>\n",
       "      <td>Confirmed Data Up</td>\n",
       "      <td>b713000000fcef0317b8cde19fb3eb57a0dc0bd81ea08b...</td>\n",
       "      <td>586a34cdb5866106ea976eba</td>\n",
       "    </tr>\n",
       "    <tr>\n",
       "      <th>6</th>\n",
       "      <td>2017-01-02 12:09:04.840000</td>\n",
       "      <td>000013b7</td>\n",
       "      <td>868500000</td>\n",
       "      <td>2</td>\n",
       "      <td>125</td>\n",
       "      <td>7</td>\n",
       "      <td>-82</td>\n",
       "      <td>6.8</td>\n",
       "      <td>4/5</td>\n",
       "      <td>{u'modulation': u'LORA', u'bandwidth': 125, u'...</td>\n",
       "      <td>1</td>\n",
       "      <td>Confirmed Data Up</td>\n",
       "      <td>b713000000fdef04b780640b021db9b2f8c9d137c85367...</td>\n",
       "      <td>586a34d1b5866106ea976ebb</td>\n",
       "    </tr>\n",
       "  </tbody>\n",
       "</table>\n",
       "</div>"
      ],
      "text/plain": [
       "                         Time   DevAddr       Freq  Chan   BW  SPF    RSSI  \\\n",
       "0  2017-01-02 12:08:27.788000  000013c1  868100000     0  125    7    -120   \n",
       "1  2017-01-02 12:08:29.196000  000013b8  868500000     2  125    7     -58   \n",
       "2  2017-01-02 12:08:44.520000  000013bf  868300000     1  125    7  -118,8   \n",
       "3  2017-01-02 12:08:55.347000  000013bf  868500000     2  125    7    -115   \n",
       "4  2017-01-02 12:08:55.346000  000013bf  868500000     2  125    7    -115   \n",
       "5  2017-01-02 12:09:00.488000  000013b7  868100000     0  125    7     -83   \n",
       "6  2017-01-02 12:09:04.840000  000013b7  868500000     2  125    7     -82   \n",
       "\n",
       "   SNR   4/5                                           dataRate  crcStatus  \\\n",
       "0 -1.0   4/5  {u'modulation': u'LORA', u'bandwidth': 125, u'...          1   \n",
       "1  6.5   4/5  {u'modulation': u'LORA', u'bandwidth': 125, u'...          1   \n",
       "2 -1.8   4/5  {u'modulation': u'LORA', u'bandwidth': 125, u'...          1   \n",
       "3  1.8   4/5  {u'modulation': u'LORA', u'bandwidth': 125, u'...          1   \n",
       "4  1.8   4/5  {u'modulation': u'LORA', u'bandwidth': 125, u'...          1   \n",
       "5  8.5   4/5  {u'modulation': u'LORA', u'bandwidth': 125, u'...          1   \n",
       "6  6.8   4/5  {u'modulation': u'LORA', u'bandwidth': 125, u'...          1   \n",
       "\n",
       "               mType                                         macPayload  \\\n",
       "0  Confirmed Data Up  c1130000804605039977d43d70b12724eea946c5a41f42...   \n",
       "1  Confirmed Data Up  b813000000142b0352619fc9a89e0e561d060ca3ac29e5...   \n",
       "2  Confirmed Data Up  bf13000080ba30042ea26888992702442c832fc2c8ac91...   \n",
       "3  Confirmed Data Up  bf13000080bb30030a96702f4ebe2cfe8559765a622344...   \n",
       "4  Confirmed Data Up  bf13000080bb30030a96702f4ebe2cfe8559765a622344...   \n",
       "5  Confirmed Data Up  b713000000fcef0317b8cde19fb3eb57a0dc0bd81ea08b...   \n",
       "6  Confirmed Data Up  b713000000fdef04b780640b021db9b2f8c9d137c85367...   \n",
       "\n",
       "                        _id  \n",
       "0  586a34acb5866106ea976eb5  \n",
       "1  586a34aeb5866106ea976eb6  \n",
       "2  586a34bdb5866106ea976eb7  \n",
       "3  586a34c8b5866106ea976eb8  \n",
       "4  586a34c8b5866106ea976eb9  \n",
       "5  586a34cdb5866106ea976eba  \n",
       "6  586a34d1b5866106ea976ebb  "
      ]
     },
     "execution_count": 5,
     "metadata": {},
     "output_type": "execute_result"
    }
   ],
   "source": [
    "data.head(7)"
   ]
  },
  {
   "cell_type": "markdown",
   "metadata": {},
   "source": [
    "Check the basic information for every column of data DataFrame."
   ]
  },
  {
   "cell_type": "code",
   "execution_count": 6,
   "metadata": {},
   "outputs": [
    {
     "name": "stdout",
     "output_type": "stream",
     "text": [
      "<class 'pandas.core.frame.DataFrame'>\n",
      "RangeIndex: 689396 entries, 0 to 689395\n",
      "Data columns (total 14 columns):\n",
      "Time          689396 non-null object\n",
      "DevAddr       689276 non-null object\n",
      "Freq          689396 non-null int64\n",
      "Chan          689396 non-null int64\n",
      "BW            689396 non-null int64\n",
      "SPF           689396 non-null int64\n",
      "RSSI          689396 non-null object\n",
      "SNR           689396 non-null float64\n",
      " 4/5          689396 non-null object\n",
      "dataRate      689396 non-null object\n",
      "crcStatus     689396 non-null int64\n",
      "mType         689396 non-null object\n",
      "macPayload    689396 non-null object\n",
      "_id           689396 non-null object\n",
      "dtypes: float64(1), int64(5), object(8)\n",
      "memory usage: 73.6+ MB\n"
     ]
    }
   ],
   "source": [
    "data.info()"
   ]
  },
  {
   "cell_type": "markdown",
   "metadata": {},
   "source": [
    "Quick analysis of columns in DataFrame.\n",
    "\n",
    "* *Time* - basic datetime format to microsecond precision (might want to treat this data as time series)\n",
    "* *DevAddr* - device address written as HEX string (easily can be converted to binary if needed)\n",
    "* *Freq* - radio frequancy of signals that carry information\n",
    "* *Chan* - channel\n",
    "* *BW* - bandwidth\n",
    "* *SPF* - spreading factor\n",
    "* *RSSI* - received signal strength indication, type object because of usage of colon insted of dot for float\n",
    "* *SNR* - signal-to-noise ratio\n",
    "* *4/5* - coding rate\n",
    "* *dataRate* - JSON formatted info, not relevant; maybe insert actual data rate value\n",
    "* *crcStatus* - is there an error in transmission\n",
    "* *mType* - type of MAC message\n",
    "* *macPayload* - part of transmitted data that is the actual intended message\n",
    "* *_id* - identification of package"
   ]
  },
  {
   "cell_type": "markdown",
   "metadata": {},
   "source": [
    "## Numerical Data"
   ]
  },
  {
   "cell_type": "markdown",
   "metadata": {},
   "source": [
    "Basic stats of numerical data series in Svebolle dataset."
   ]
  },
  {
   "cell_type": "code",
   "execution_count": 7,
   "metadata": {},
   "outputs": [
    {
     "data": {
      "text/html": [
       "<div>\n",
       "<style scoped>\n",
       "    .dataframe tbody tr th:only-of-type {\n",
       "        vertical-align: middle;\n",
       "    }\n",
       "\n",
       "    .dataframe tbody tr th {\n",
       "        vertical-align: top;\n",
       "    }\n",
       "\n",
       "    .dataframe thead th {\n",
       "        text-align: right;\n",
       "    }\n",
       "</style>\n",
       "<table border=\"1\" class=\"dataframe\">\n",
       "  <thead>\n",
       "    <tr style=\"text-align: right;\">\n",
       "      <th></th>\n",
       "      <th>Freq</th>\n",
       "      <th>Chan</th>\n",
       "      <th>BW</th>\n",
       "      <th>SPF</th>\n",
       "      <th>SNR</th>\n",
       "      <th>crcStatus</th>\n",
       "    </tr>\n",
       "  </thead>\n",
       "  <tbody>\n",
       "    <tr>\n",
       "      <th>count</th>\n",
       "      <td>6.893960e+05</td>\n",
       "      <td>689396.000000</td>\n",
       "      <td>689396.000000</td>\n",
       "      <td>689396.000000</td>\n",
       "      <td>689396.000000</td>\n",
       "      <td>689396.0</td>\n",
       "    </tr>\n",
       "    <tr>\n",
       "      <th>mean</th>\n",
       "      <td>8.680077e+08</td>\n",
       "      <td>2.373771</td>\n",
       "      <td>125.006527</td>\n",
       "      <td>7.284694</td>\n",
       "      <td>2.936245</td>\n",
       "      <td>1.0</td>\n",
       "    </tr>\n",
       "    <tr>\n",
       "      <th>std</th>\n",
       "      <td>4.607855e+05</td>\n",
       "      <td>2.293109</td>\n",
       "      <td>0.903266</td>\n",
       "      <td>1.144044</td>\n",
       "      <td>5.841973</td>\n",
       "      <td>0.0</td>\n",
       "    </tr>\n",
       "    <tr>\n",
       "      <th>min</th>\n",
       "      <td>8.671000e+08</td>\n",
       "      <td>0.000000</td>\n",
       "      <td>125.000000</td>\n",
       "      <td>7.000000</td>\n",
       "      <td>-31.800000</td>\n",
       "      <td>1.0</td>\n",
       "    </tr>\n",
       "    <tr>\n",
       "      <th>25%</th>\n",
       "      <td>8.677000e+08</td>\n",
       "      <td>1.000000</td>\n",
       "      <td>125.000000</td>\n",
       "      <td>7.000000</td>\n",
       "      <td>-1.000000</td>\n",
       "      <td>1.0</td>\n",
       "    </tr>\n",
       "    <tr>\n",
       "      <th>50%</th>\n",
       "      <td>8.681000e+08</td>\n",
       "      <td>2.000000</td>\n",
       "      <td>125.000000</td>\n",
       "      <td>7.000000</td>\n",
       "      <td>3.200000</td>\n",
       "      <td>1.0</td>\n",
       "    </tr>\n",
       "    <tr>\n",
       "      <th>75%</th>\n",
       "      <td>8.683000e+08</td>\n",
       "      <td>4.000000</td>\n",
       "      <td>125.000000</td>\n",
       "      <td>7.000000</td>\n",
       "      <td>8.000000</td>\n",
       "      <td>1.0</td>\n",
       "    </tr>\n",
       "    <tr>\n",
       "      <th>max</th>\n",
       "      <td>9.011858e+08</td>\n",
       "      <td>196.000000</td>\n",
       "      <td>250.000000</td>\n",
       "      <td>12.000000</td>\n",
       "      <td>31.200000</td>\n",
       "      <td>1.0</td>\n",
       "    </tr>\n",
       "  </tbody>\n",
       "</table>\n",
       "</div>"
      ],
      "text/plain": [
       "               Freq           Chan             BW            SPF  \\\n",
       "count  6.893960e+05  689396.000000  689396.000000  689396.000000   \n",
       "mean   8.680077e+08       2.373771     125.006527       7.284694   \n",
       "std    4.607855e+05       2.293109       0.903266       1.144044   \n",
       "min    8.671000e+08       0.000000     125.000000       7.000000   \n",
       "25%    8.677000e+08       1.000000     125.000000       7.000000   \n",
       "50%    8.681000e+08       2.000000     125.000000       7.000000   \n",
       "75%    8.683000e+08       4.000000     125.000000       7.000000   \n",
       "max    9.011858e+08     196.000000     250.000000      12.000000   \n",
       "\n",
       "                 SNR  crcStatus  \n",
       "count  689396.000000   689396.0  \n",
       "mean        2.936245        1.0  \n",
       "std         5.841973        0.0  \n",
       "min       -31.800000        1.0  \n",
       "25%        -1.000000        1.0  \n",
       "50%         3.200000        1.0  \n",
       "75%         8.000000        1.0  \n",
       "max        31.200000        1.0  "
      ]
     },
     "execution_count": 7,
     "metadata": {},
     "output_type": "execute_result"
    }
   ],
   "source": [
    "data.describe()"
   ]
  },
  {
   "cell_type": "markdown",
   "metadata": {},
   "source": [
    "Lets visualize to enable better data exploration."
   ]
  },
  {
   "cell_type": "code",
   "execution_count": 8,
   "metadata": {},
   "outputs": [
    {
     "data": {
      "image/png": "[encoded data removed]",
      "text/plain": [
       "<Figure size 1440x1440 with 6 Axes>"
      ]
     },
     "metadata": {
      "needs_background": "light"
     },
     "output_type": "display_data"
    }
   ],
   "source": [
    "data.hist(bins=100, figsize=(20, 20))\n",
    "plt.show()"
   ]
  },
  {
   "cell_type": "markdown",
   "metadata": {},
   "source": [
    "Even though RSSI is numerical value (float64) because the comma was used (insted of dot) for dividing decimal part of number, it is represented like object type in DataFrame.\n",
    "\n",
    "Lets take care of that and rerun visualization."
   ]
  },
  {
   "cell_type": "code",
   "execution_count": 9,
   "metadata": {},
   "outputs": [
    {
     "data": {
      "text/plain": [
       "0      -120\n",
       "1       -58\n",
       "2    -118,8\n",
       "3      -115\n",
       "4      -115\n",
       "Name: RSSI, dtype: object"
      ]
     },
     "execution_count": 9,
     "metadata": {},
     "output_type": "execute_result"
    }
   ],
   "source": [
    "data['RSSI'].head()"
   ]
  },
  {
   "cell_type": "code",
   "execution_count": 10,
   "metadata": {},
   "outputs": [],
   "source": [
    "# replacing every comma for dot\n",
    "data['RSSI'] = [x.replace(',', '.') for x in data['RSSI']]"
   ]
  },
  {
   "cell_type": "code",
   "execution_count": 11,
   "metadata": {},
   "outputs": [
    {
     "data": {
      "text/plain": [
       "0      -120\n",
       "1       -58\n",
       "2    -118.8\n",
       "3      -115\n",
       "4      -115\n",
       "Name: RSSI, dtype: object"
      ]
     },
     "execution_count": 11,
     "metadata": {},
     "output_type": "execute_result"
    }
   ],
   "source": [
    "data['RSSI'].head()"
   ]
  },
  {
   "cell_type": "code",
   "execution_count": 12,
   "metadata": {},
   "outputs": [],
   "source": [
    "# converting object type into the float64 type.\n",
    "# by providing errors='coerce' every invalid data point or missing data point will be written as NaN\n",
    "data['RSSI'] = pd.to_numeric(data.RSSI, errors='coerce') "
   ]
  },
  {
   "cell_type": "code",
   "execution_count": 13,
   "metadata": {},
   "outputs": [
    {
     "data": {
      "text/plain": [
       "0   -120.0\n",
       "1    -58.0\n",
       "2   -118.8\n",
       "3   -115.0\n",
       "4   -115.0\n",
       "Name: RSSI, dtype: float64"
      ]
     },
     "execution_count": 13,
     "metadata": {},
     "output_type": "execute_result"
    }
   ],
   "source": [
    "data['RSSI'].head()"
   ]
  },
  {
   "cell_type": "code",
   "execution_count": 14,
   "metadata": {},
   "outputs": [
    {
     "data": {
      "text/html": [
       "<div>\n",
       "<style scoped>\n",
       "    .dataframe tbody tr th:only-of-type {\n",
       "        vertical-align: middle;\n",
       "    }\n",
       "\n",
       "    .dataframe tbody tr th {\n",
       "        vertical-align: top;\n",
       "    }\n",
       "\n",
       "    .dataframe thead th {\n",
       "        text-align: right;\n",
       "    }\n",
       "</style>\n",
       "<table border=\"1\" class=\"dataframe\">\n",
       "  <thead>\n",
       "    <tr style=\"text-align: right;\">\n",
       "      <th></th>\n",
       "      <th>Freq</th>\n",
       "      <th>Chan</th>\n",
       "      <th>BW</th>\n",
       "      <th>SPF</th>\n",
       "      <th>RSSI</th>\n",
       "      <th>SNR</th>\n",
       "      <th>crcStatus</th>\n",
       "    </tr>\n",
       "  </thead>\n",
       "  <tbody>\n",
       "    <tr>\n",
       "      <th>count</th>\n",
       "      <td>6.893960e+05</td>\n",
       "      <td>689396.000000</td>\n",
       "      <td>689396.000000</td>\n",
       "      <td>689396.000000</td>\n",
       "      <td>689396.000000</td>\n",
       "      <td>689396.000000</td>\n",
       "      <td>689396.0</td>\n",
       "    </tr>\n",
       "    <tr>\n",
       "      <th>mean</th>\n",
       "      <td>8.680077e+08</td>\n",
       "      <td>2.373771</td>\n",
       "      <td>125.006527</td>\n",
       "      <td>7.284694</td>\n",
       "      <td>-101.294723</td>\n",
       "      <td>2.936245</td>\n",
       "      <td>1.0</td>\n",
       "    </tr>\n",
       "    <tr>\n",
       "      <th>std</th>\n",
       "      <td>4.607855e+05</td>\n",
       "      <td>2.293109</td>\n",
       "      <td>0.903266</td>\n",
       "      <td>1.144044</td>\n",
       "      <td>22.335990</td>\n",
       "      <td>5.841973</td>\n",
       "      <td>0.0</td>\n",
       "    </tr>\n",
       "    <tr>\n",
       "      <th>min</th>\n",
       "      <td>8.671000e+08</td>\n",
       "      <td>0.000000</td>\n",
       "      <td>125.000000</td>\n",
       "      <td>7.000000</td>\n",
       "      <td>-193.200000</td>\n",
       "      <td>-31.800000</td>\n",
       "      <td>1.0</td>\n",
       "    </tr>\n",
       "    <tr>\n",
       "      <th>25%</th>\n",
       "      <td>8.677000e+08</td>\n",
       "      <td>1.000000</td>\n",
       "      <td>125.000000</td>\n",
       "      <td>7.000000</td>\n",
       "      <td>-118.000000</td>\n",
       "      <td>-1.000000</td>\n",
       "      <td>1.0</td>\n",
       "    </tr>\n",
       "    <tr>\n",
       "      <th>50%</th>\n",
       "      <td>8.681000e+08</td>\n",
       "      <td>2.000000</td>\n",
       "      <td>125.000000</td>\n",
       "      <td>7.000000</td>\n",
       "      <td>-112.500000</td>\n",
       "      <td>3.200000</td>\n",
       "      <td>1.0</td>\n",
       "    </tr>\n",
       "    <tr>\n",
       "      <th>75%</th>\n",
       "      <td>8.683000e+08</td>\n",
       "      <td>4.000000</td>\n",
       "      <td>125.000000</td>\n",
       "      <td>7.000000</td>\n",
       "      <td>-81.000000</td>\n",
       "      <td>8.000000</td>\n",
       "      <td>1.0</td>\n",
       "    </tr>\n",
       "    <tr>\n",
       "      <th>max</th>\n",
       "      <td>9.011858e+08</td>\n",
       "      <td>196.000000</td>\n",
       "      <td>250.000000</td>\n",
       "      <td>12.000000</td>\n",
       "      <td>120.000000</td>\n",
       "      <td>31.200000</td>\n",
       "      <td>1.0</td>\n",
       "    </tr>\n",
       "  </tbody>\n",
       "</table>\n",
       "</div>"
      ],
      "text/plain": [
       "               Freq           Chan             BW            SPF  \\\n",
       "count  6.893960e+05  689396.000000  689396.000000  689396.000000   \n",
       "mean   8.680077e+08       2.373771     125.006527       7.284694   \n",
       "std    4.607855e+05       2.293109       0.903266       1.144044   \n",
       "min    8.671000e+08       0.000000     125.000000       7.000000   \n",
       "25%    8.677000e+08       1.000000     125.000000       7.000000   \n",
       "50%    8.681000e+08       2.000000     125.000000       7.000000   \n",
       "75%    8.683000e+08       4.000000     125.000000       7.000000   \n",
       "max    9.011858e+08     196.000000     250.000000      12.000000   \n",
       "\n",
       "                RSSI            SNR  crcStatus  \n",
       "count  689396.000000  689396.000000   689396.0  \n",
       "mean     -101.294723       2.936245        1.0  \n",
       "std        22.335990       5.841973        0.0  \n",
       "min      -193.200000     -31.800000        1.0  \n",
       "25%      -118.000000      -1.000000        1.0  \n",
       "50%      -112.500000       3.200000        1.0  \n",
       "75%       -81.000000       8.000000        1.0  \n",
       "max       120.000000      31.200000        1.0  "
      ]
     },
     "execution_count": 14,
     "metadata": {},
     "output_type": "execute_result"
    }
   ],
   "source": [
    "data.describe()"
   ]
  },
  {
   "cell_type": "code",
   "execution_count": 15,
   "metadata": {},
   "outputs": [
    {
     "data": {
      "image/png": "[encoded data removed]",
      "text/plain": [
       "<Figure size 1440x1440 with 9 Axes>"
      ]
     },
     "metadata": {
      "needs_background": "light"
     },
     "output_type": "display_data"
    }
   ],
   "source": [
    "data.hist(bins=100, figsize=(20, 20))\n",
    "plt.show()"
   ]
  },
  {
   "cell_type": "markdown",
   "metadata": {},
   "source": [
    "Great! Now, there are only two plot worth of deeper exploration - RSSI and SNR.\n",
    "\n",
    "The rest of the plots such as BW, Chan, Freq... have only a few values. Lets see all unique values of those series:"
   ]
  },
  {
   "cell_type": "code",
   "execution_count": 16,
   "metadata": {},
   "outputs": [
    {
     "name": "stdout",
     "output_type": "stream",
     "text": [
      "BW unique data points: [125 250]\n",
      "\n",
      "Chan unique data points: [  0   2   1   8   5   4   7   6   3  12 196]\n",
      "\n",
      "Freq unique data points: [868100000 868500000 868300000 867500000 867300000 867900000 867700000\n",
      " 867100000 901185761]\n",
      "\n",
      "SPF unique data points: [ 7 12  8  9 11 10]\n",
      "\n",
      "crcStatus unique data points: [1]\n"
     ]
    }
   ],
   "source": [
    "print('BW unique data points:', data['BW'].unique())\n",
    "print('\\nChan unique data points:', data['Chan'].unique())\n",
    "print('\\nFreq unique data points:', data['Freq'].unique())\n",
    "print('\\nSPF unique data points:', data['SPF'].unique())\n",
    "print('\\ncrcStatus unique data points:', data['crcStatus'].unique())"
   ]
  },
  {
   "cell_type": "markdown",
   "metadata": {},
   "source": [
    "## Non-numerical data"
   ]
  },
  {
   "cell_type": "code",
   "execution_count": 17,
   "metadata": {},
   "outputs": [
    {
     "name": "stdout",
     "output_type": "stream",
     "text": [
      "['Time' 'DevAddr' ' 4/5' 'dataRate' 'mType' 'macPayload' '_id']\n"
     ]
    }
   ],
   "source": [
    "non_numeric_list = data.select_dtypes(include='object')\n",
    "print(non_numeric_list.columns.values)"
   ]
  },
  {
   "cell_type": "markdown",
   "metadata": {},
   "source": [
    "Lets start with random value in **Time** series."
   ]
  },
  {
   "cell_type": "code",
   "execution_count": 18,
   "metadata": {},
   "outputs": [
    {
     "data": {
      "text/plain": [
       "Timestamp('2017-03-21 10:53:12.417000')"
      ]
     },
     "execution_count": 18,
     "metadata": {},
     "output_type": "execute_result"
    }
   ],
   "source": [
    "from random import randint\n",
    "\n",
    "_ = data['Time'].iloc[randint(0, len(data.Time))]\n",
    "pd.to_datetime(_, errors='coerce') # if there's an error, parsing will raise an exception"
   ]
  },
  {
   "cell_type": "markdown",
   "metadata": {},
   "source": [
    "It is well formated Datetime series with precision up to microseconds."
   ]
  },
  {
   "cell_type": "markdown",
   "metadata": {},
   "source": [
    "Now, **DevAddr** should be, as [TTN says](https://www.thethingsnetwork.org/docs/lorawan/address-space.html), \"...*32 bit device address of which 7 bits are fixed (...), leaving 25 bits that can be assigned to individual devices, a procedure called Activation.*\"\n",
    "\n",
    "In this dataset is written in HEX format."
   ]
  },
  {
   "cell_type": "code",
   "execution_count": 19,
   "metadata": {},
   "outputs": [
    {
     "data": {
      "text/plain": [
       "'000013bf'"
      ]
     },
     "execution_count": 19,
     "metadata": {},
     "output_type": "execute_result"
    }
   ],
   "source": [
    "hex_DevAddr_dp = data.DevAddr.iloc[randint(0,689396)]\n",
    "hex_DevAddr_dp"
   ]
  },
  {
   "cell_type": "markdown",
   "metadata": {},
   "source": [
    "Converting it to binary:"
   ]
  },
  {
   "cell_type": "code",
   "execution_count": 20,
   "metadata": {},
   "outputs": [
    {
     "data": {
      "text/plain": [
       "'00000000000000000001001110111111'"
      ]
     },
     "execution_count": 20,
     "metadata": {},
     "output_type": "execute_result"
    }
   ],
   "source": [
    "scale = 16 # hex scaler\n",
    "num_of_bits = 32 # due to The Things Network\n",
    "bin(int(hex_DevAddr_dp, scale))[2:].zfill(num_of_bits)"
   ]
  },
  {
   "cell_type": "markdown",
   "metadata": {},
   "source": [
    "Next, there is a single column labeled as **4/5**."
   ]
  },
  {
   "cell_type": "code",
   "execution_count": 21,
   "metadata": {},
   "outputs": [
    {
     "data": {
      "text/plain": [
       "0     4/5\n",
       "1     4/5\n",
       "2     4/5\n",
       "3     4/5\n",
       "4     4/5\n",
       "Name:  4/5, dtype: object"
      ]
     },
     "execution_count": 21,
     "metadata": {},
     "output_type": "execute_result"
    }
   ],
   "source": [
    "data[' 4/5'].head()"
   ]
  },
  {
   "cell_type": "markdown",
   "metadata": {},
   "source": [
    "...and there is basically nothing besides ' '4/5 in the whole column:"
   ]
  },
  {
   "cell_type": "code",
   "execution_count": 22,
   "metadata": {},
   "outputs": [
    {
     "name": "stdout",
     "output_type": "stream",
     "text": [
      " 4/5 unique data points: [' 4/5']\n"
     ]
    }
   ],
   "source": [
    "print(' 4/5 unique data points:', data[' 4/5'].unique())"
   ]
  },
  {
   "cell_type": "markdown",
   "metadata": {},
   "source": [
    "It actually represents coding rate which means for every 4 bit of actual information there is 1 redundant bit."
   ]
  },
  {
   "cell_type": "markdown",
   "metadata": {},
   "source": [
    "**dataRate** seems to be JSON formatted text:"
   ]
  },
  {
   "cell_type": "code",
   "execution_count": 23,
   "metadata": {},
   "outputs": [
    {
     "data": {
      "text/plain": [
       "0    {u'modulation': u'LORA', u'bandwidth': 125, u'...\n",
       "1    {u'modulation': u'LORA', u'bandwidth': 125, u'...\n",
       "2    {u'modulation': u'LORA', u'bandwidth': 125, u'...\n",
       "3    {u'modulation': u'LORA', u'bandwidth': 125, u'...\n",
       "4    {u'modulation': u'LORA', u'bandwidth': 125, u'...\n",
       "Name: dataRate, dtype: object"
      ]
     },
     "execution_count": 23,
     "metadata": {},
     "output_type": "execute_result"
    }
   ],
   "source": [
    "data['dataRate'].head()"
   ]
  },
  {
   "cell_type": "markdown",
   "metadata": {},
   "source": [
    "This just formats already written in data, it should be replaced for an actual Data Rate value.\n",
    "\n",
    "$ DR = SF \\times \\frac{BW}{2^{SF}} \\times CR $\n",
    "\n",
    "where:\n",
    "* DR is Data Rate\n",
    "* SF is Spreading Factor\n",
    "* BW is BandWidth\n",
    "* CR is Code Rate"
   ]
  },
  {
   "cell_type": "markdown",
   "metadata": {},
   "source": [
    "**mType** is type of message being transmitted (or received)."
   ]
  },
  {
   "cell_type": "code",
   "execution_count": 24,
   "metadata": {},
   "outputs": [
    {
     "data": {
      "text/plain": [
       "0    Confirmed Data Up\n",
       "1    Confirmed Data Up\n",
       "2    Confirmed Data Up\n",
       "3    Confirmed Data Up\n",
       "4    Confirmed Data Up\n",
       "Name: mType, dtype: object"
      ]
     },
     "execution_count": 24,
     "metadata": {},
     "output_type": "execute_result"
    }
   ],
   "source": [
    "data['mType'].head()"
   ]
  },
  {
   "cell_type": "markdown",
   "metadata": {},
   "source": [
    "There are a few different categories of message type:"
   ]
  },
  {
   "cell_type": "code",
   "execution_count": 25,
   "metadata": {},
   "outputs": [
    {
     "name": "stdout",
     "output_type": "stream",
     "text": [
      "mType unique data points: ['Confirmed Data Up' 'Proprietary' 'RFU' 'Confirmed Data Down'\n",
      " 'Join Request' 'Unconfirmed Data Down' 'Unconfirmed Data Up'\n",
      " 'Join Accept']\n"
     ]
    }
   ],
   "source": [
    "print('mType unique data points:', data['mType'].unique())"
   ]
  },
  {
   "cell_type": "markdown",
   "metadata": {},
   "source": [
    "**macPayload** is encoded message device is transmitting to Network Server."
   ]
  },
  {
   "cell_type": "code",
   "execution_count": 26,
   "metadata": {},
   "outputs": [
    {
     "data": {
      "text/plain": [
       "0    c1130000804605039977d43d70b12724eea946c5a41f42...\n",
       "1    b813000000142b0352619fc9a89e0e561d060ca3ac29e5...\n",
       "2    bf13000080ba30042ea26888992702442c832fc2c8ac91...\n",
       "3    bf13000080bb30030a96702f4ebe2cfe8559765a622344...\n",
       "4    bf13000080bb30030a96702f4ebe2cfe8559765a622344...\n",
       "Name: macPayload, dtype: object"
      ]
     },
     "execution_count": 26,
     "metadata": {},
     "output_type": "execute_result"
    }
   ],
   "source": [
    "data['macPayload'].head()"
   ]
  },
  {
   "cell_type": "markdown",
   "metadata": {},
   "source": [
    "Lastly, **_id** is an identification of message being transmitted."
   ]
  },
  {
   "cell_type": "code",
   "execution_count": 27,
   "metadata": {},
   "outputs": [
    {
     "data": {
      "text/plain": [
       "0    586a34acb5866106ea976eb5\n",
       "1    586a34aeb5866106ea976eb6\n",
       "2    586a34bdb5866106ea976eb7\n",
       "3    586a34c8b5866106ea976eb8\n",
       "4    586a34c8b5866106ea976eb9\n",
       "Name: _id, dtype: object"
      ]
     },
     "execution_count": 27,
     "metadata": {},
     "output_type": "execute_result"
    }
   ],
   "source": [
    "data['_id'].head()"
   ]
  },
  {
   "cell_type": "markdown",
   "metadata": {},
   "source": [
    "## RSSI and SNR deeper lookin to statistical properties"
   ]
  },
  {
   "cell_type": "markdown",
   "metadata": {},
   "source": [
    "### Histogram"
   ]
  },
  {
   "cell_type": "markdown",
   "metadata": {},
   "source": [
    "Histogram is an accurate representation of the distribution of numerical data, it estimates the probability distribution of quantitative variable. First thing important is to 'bin' the range of values."
   ]
  },
  {
   "cell_type": "code",
   "execution_count": 28,
   "metadata": {},
   "outputs": [],
   "source": [
    "n_RSSI_data = len(data.RSSI)\n",
    "n_SNR_data = len(data.SNR)\n",
    "\n",
    "if(n_RSSI_data == n_SNR_data):\n",
    "    n_data = n_RSSI_data\n",
    "\n",
    "n_bins = int(np.sqrt(n_data)) # square root choice"
   ]
  },
  {
   "cell_type": "code",
   "execution_count": 29,
   "metadata": {},
   "outputs": [
    {
     "data": {
      "image/png": "[encoded data removed]",
      "text/plain": [
       "<Figure size 1080x504 with 1 Axes>"
      ]
     },
     "metadata": {
      "needs_background": "light"
     },
     "output_type": "display_data"
    }
   ],
   "source": [
    "# RSSI plot\n",
    "\n",
    "plt.figure(figsize=(15,7))\n",
    "plt.axis([-150, -30, 0, 65000])\n",
    "plt.hist(data.RSSI, bins=n_bins)\n",
    "plt.title('RSSI')\n",
    "plt.xlabel('value')\n",
    "plt.ylabel('count')\n",
    "plt.show()"
   ]
  },
  {
   "cell_type": "code",
   "execution_count": 30,
   "metadata": {},
   "outputs": [
    {
     "data": {
      "image/png": "[encoded data removed]",
      "text/plain": [
       "<Figure size 1080x504 with 1 Axes>"
      ]
     },
     "metadata": {
      "needs_background": "light"
     },
     "output_type": "display_data"
    }
   ],
   "source": [
    "# SNR plot\n",
    "\n",
    "plt.figure(figsize=(15,7))\n",
    "plt.axis([-25, 20, 0, 20000])\n",
    "plt.hist(data.SNR, bins=n_bins)\n",
    "plt.title('SNR')\n",
    "plt.xlabel('value')\n",
    "plt.ylabel('count')\n",
    "plt.show()"
   ]
  },
  {
   "cell_type": "markdown",
   "metadata": {},
   "source": [
    "### ECDF\n",
    "\n",
    "An Empirical Cumulative Distribution Function gives complete picture of how data is distributed."
   ]
  },
  {
   "cell_type": "code",
   "execution_count": 31,
   "metadata": {},
   "outputs": [],
   "source": [
    "def ecdf(data):\n",
    "    n = len(data)\n",
    "    x = np.sort(data)\n",
    "    \n",
    "    # step function that jumps up by 1/n at each of the n data points\n",
    "    y = np.arange(1, n+1) / n\n",
    "    \n",
    "    return x, y"
   ]
  },
  {
   "cell_type": "code",
   "execution_count": 32,
   "metadata": {},
   "outputs": [
    {
     "data": {
      "image/png": "[encoded data removed]",
      "text/plain": [
       "<Figure size 432x288 with 1 Axes>"
      ]
     },
     "metadata": {
      "needs_background": "light"
     },
     "output_type": "display_data"
    },
    {
     "data": {
      "image/png": "[encoded data removed]",
      "text/plain": [
       "<Figure size 432x288 with 1 Axes>"
      ]
     },
     "metadata": {
      "needs_background": "light"
     },
     "output_type": "display_data"
    }
   ],
   "source": [
    "x_RSSI, y_RSSI = ecdf(data.RSSI)\n",
    "x_SNR, y_SNR = ecdf(data.SNR)\n",
    "\n",
    "# RSSI cdf\n",
    "plt.plot(x_RSSI, y_RSSI, marker='.', linestyle='none')\n",
    "plt.title('RSSI')\n",
    "plt.xlabel('value')\n",
    "plt.ylabel('ECDF')\n",
    "plt.show()\n",
    "\n",
    "# SNR cdf\n",
    "plt.plot(x_SNR, y_SNR, marker='.', linestyle='none')\n",
    "plt.title('SNR')\n",
    "plt.xlabel('value')\n",
    "plt.ylabel('ECDF')\n",
    "plt.show()"
   ]
  },
  {
   "cell_type": "markdown",
   "metadata": {},
   "source": [
    "Percentiles (and median on the CDF plots) is a measure used in statistics indicating the value below which a given percentage of observations in a group of observations falls. Graphical visualization of percentiles:"
   ]
  },
  {
   "cell_type": "code",
   "execution_count": 33,
   "metadata": {},
   "outputs": [
    {
     "data": {
      "image/png": "[encoded data removed]",
      "text/plain": [
       "<Figure size 432x288 with 1 Axes>"
      ]
     },
     "metadata": {
      "needs_background": "light"
     },
     "output_type": "display_data"
    },
    {
     "name": "stdout",
     "output_type": "stream",
     "text": [
      "RSSI percentiles values: [-128.2 -118.  -112.5  -81.   -57. ]\n"
     ]
    },
    {
     "data": {
      "image/png": "[encoded data removed]",
      "text/plain": [
       "<Figure size 432x288 with 1 Axes>"
      ]
     },
     "metadata": {
      "needs_background": "light"
     },
     "output_type": "display_data"
    },
    {
     "name": "stdout",
     "output_type": "stream",
     "text": [
      "SNR percentiles values: [-9.  -1.   3.2  8.  10.8]\n"
     ]
    }
   ],
   "source": [
    "percentiles = np.array([2.5, 25, 50, 75, 97.5])\n",
    "\n",
    "ptiles_RSSI = np.percentile(data.RSSI, percentiles)\n",
    "ptiles_SNR = np.percentile(data.SNR, percentiles)\n",
    "\n",
    "# RSSI cdf w/ percentiles marked as red diamonds\n",
    "plt.plot(x_RSSI, y_RSSI, marker='.', markersize=1,\n",
    "         linestyle='none')\n",
    "plt.title('RSSI')\n",
    "plt.xlabel('value')\n",
    "plt.ylabel('ECDF')\n",
    "\n",
    "plt.plot(ptiles_RSSI, percentiles/100, marker='D', color='red',\n",
    "        linestyle='none')\n",
    "\n",
    "plt.show()\n",
    "print('RSSI percentiles values:', ptiles_RSSI)\n",
    "\n",
    "\n",
    "# SNR cdf w/ percentiles marked as red diamonds\n",
    "plt.plot(x_SNR, y_SNR, marker='.', markersize=1,\n",
    "         linestyle='none')\n",
    "plt.title('SNR')\n",
    "plt.xlabel('value')\n",
    "plt.ylabel('ECDF')\n",
    "\n",
    "plt.plot(ptiles_SNR, percentiles/100, marker='D', color='red',\n",
    "        linestyle='none')\n",
    "\n",
    "plt.show()\n",
    "print('SNR percentiles values:', ptiles_SNR)"
   ]
  },
  {
   "cell_type": "markdown",
   "metadata": {},
   "source": [
    "### Statistical Inference \n",
    "\n",
    "Statistical inference is the process of deducing properties of an underlying probability distribution. It is mostly usead to draw:\n",
    "1. probabilistic conclusions about what we might expect if we collected the same data again,\n",
    "2. acceptable conclusions from data;\n",
    "3. more general conclusions from relatively few data of observations.\n",
    "\n",
    "Comparing measured data of RSSI and SNNR to well-known statistical distributions:\n",
    "\n",
    "Are the RSSI and SNR **normally** distributed?"
   ]
  },
  {
   "cell_type": "code",
   "execution_count": 34,
   "metadata": {},
   "outputs": [
    {
     "data": {
      "image/png": "[encoded data removed]",
      "text/plain": [
       "<Figure size 432x288 with 1 Axes>"
      ]
     },
     "metadata": {
      "needs_background": "light"
     },
     "output_type": "display_data"
    },
    {
     "name": "stdout",
     "output_type": "stream",
     "text": [
      "RSSI mean: -101.29472349709803\n",
      "RSSI std: 22.335973704021928\n"
     ]
    },
    {
     "data": {
      "image/png": "[encoded data removed]",
      "text/plain": [
       "<Figure size 432x288 with 1 Axes>"
      ]
     },
     "metadata": {
      "needs_background": "light"
     },
     "output_type": "display_data"
    },
    {
     "name": "stdout",
     "output_type": "stream",
     "text": [
      "SNR mean: 2.936244770784778\n",
      "SNR std: 5.841968658273899\n"
     ]
    }
   ],
   "source": [
    "# calculating mean and std\n",
    "mu_RSSI = np.mean(data.RSSI)\n",
    "sigma_RSSI = np.std(data.RSSI)\n",
    "\n",
    "mu_SNR = np.mean(data.SNR)\n",
    "sigma_SNR = np.std(data.SNR)\n",
    "\n",
    "# series length\n",
    "if(n_RSSI_data == n_SNR_data):\n",
    "    n_data = n_RSSI_data\n",
    "\n",
    "#####################\n",
    "# RSSI distribution #\n",
    "#####################\n",
    "# sampling out of a normal distribution\n",
    "samples = np.random.normal(mu_RSSI, sigma_RSSI, n_data)\n",
    "x_normal, y_normal = ecdf(samples)\n",
    "\n",
    "# visually comparing\n",
    "# actual data\n",
    "plt.plot(x_RSSI, y_RSSI, marker='.', linestyle='none')\n",
    "plt.title('RSSI')\n",
    "plt.xlabel('value')\n",
    "plt.ylabel('ECDF')\n",
    "\n",
    "# theoretical data\n",
    "plt.plot(x_normal, y_normal, marker='.', markersize=0.5, linestyle='none')\n",
    "plt.show()\n",
    "print('RSSI mean:', mu_RSSI)\n",
    "print('RSSI std:', sigma_RSSI)\n",
    "\n",
    "#####################\n",
    "# SNR distribution #\n",
    "#####################\n",
    "# sampling out of a normal distribution\n",
    "samples = np.random.normal(mu_SNR, sigma_SNR, n_data)\n",
    "x_normal, y_normal = ecdf(samples)\n",
    "\n",
    "# visually comparing\n",
    "# actual data\n",
    "plt.plot(x_SNR, y_SNR, marker='.', linestyle='none')\n",
    "plt.title('SNR')\n",
    "plt.xlabel('value')\n",
    "plt.ylabel('ECDF')\n",
    "\n",
    "# theoretical data\n",
    "plt.plot(x_normal, y_normal, marker='.', markersize=0.5, linestyle='none')\n",
    "plt.show()\n",
    "print('SNR mean:', mu_SNR)\n",
    "print('SNR std:', sigma_SNR)"
   ]
  },
  {
   "cell_type": "markdown",
   "metadata": {},
   "source": [
    "It is fairly that SNR is Normally distributed (there are some pretty big devieations at around SNR = 12, though).\n",
    "\n",
    "RSSI have large deviations from Normal distribution. Good idea would be go through **confirmatory data analysis**. This process is also called hypothesis testing. This test should be all about comparing (not only visually, but statistically) two datasets: \n",
    "* measured RSSI values\n",
    "* theoretical Gauss values generated from mean and standard deviation of measured RSSI\n",
    "\n",
    "A hypothesis is proposed for the statistical relationship between the two datasets and this is compared as an alternative to an idealized *null hypothesis* that proposes no relationship between two datasets. The comparison is deemed *statistically significant* if the relationship between the data sets would be an unlikely realization of the null hypothesis according to a threshold probability - the significance level.\n",
    "\n",
    "It can be pretty hard to determine the significance level of the null hypothesis with techniques such as ECDF. Simulation of the hypothesis is required. \n",
    "\n",
    "Good way of simulating the hypothesis is generating a permutation sample:"
   ]
  },
  {
   "cell_type": "code",
   "execution_count": 35,
   "metadata": {},
   "outputs": [],
   "source": [
    "def permutation_sample(data1, data2):\n",
    "    \"\"\"Generating a permutation sample from two datasets\"\"\"\n",
    "    # concatenating the datasets\n",
    "    data = np.concatenate((data1, data2))\n",
    "    \n",
    "    # permutating the concatenated dataset\n",
    "    permuted_data = np.random.permutation(data)\n",
    "    \n",
    "    # splitting permuted array into two\n",
    "    perm_sample1 = permuted_data[:len(data1)]\n",
    "    perm_sample2 = permuted_data[len(data1):]\n",
    "    \n",
    "    return perm_sample1, perm_sample2"
   ]
  },
  {
   "cell_type": "code",
   "execution_count": 36,
   "metadata": {},
   "outputs": [
    {
     "data": {
      "image/png": "[encoded data removed]",
      "text/plain": [
       "<Figure size 432x288 with 1 Axes>"
      ]
     },
     "metadata": {
      "needs_background": "light"
     },
     "output_type": "display_data"
    },
    {
     "data": {
      "text/plain": [
       "<Figure size 1080x504 with 0 Axes>"
      ]
     },
     "metadata": {},
     "output_type": "display_data"
    }
   ],
   "source": [
    "mu_RSSI = np.mean(data.RSSI)\n",
    "sigma_RSSI = np.std(data.RSSI)\n",
    "\n",
    "normal_RSSI = np.random.normal(mu_RSSI, sigma_RSSI, n_data)\n",
    "x_normal, y_normal = ecdf(normal_RSSI)\n",
    "\n",
    "# plotting ECDFs from original data\n",
    "plt.plot(x_RSSI, y_RSSI, marker='.', linestyle='none', color='red')\n",
    "plt.plot(x_normal, y_normal, marker='.', linestyle='none', color='blue')\n",
    "plt.title('RSSI')\n",
    "plt.xlabel('value')\n",
    "plt.ylabel('ecdf')\n",
    "\n",
    "for _ in range(50):\n",
    "    # generating permutation samples\n",
    "    ps1, ps2 = permutation_sample(data.RSSI, normal_RSSI)\n",
    "    \n",
    "    # computing ECDFs\n",
    "    x_1, y_1 = ecdf(ps1)\n",
    "    x_2, y_2 = ecdf(ps2)\n",
    "    \n",
    "    # plotting ECDFs of permutation sample\n",
    "    plt.plot(x_1, y_1, marker='.', linestyle='none',  color='red', alpha=0.02)\n",
    "    plt.plot(x_2, y_2, marker='.', linestyle='none', color='blue', alpha=0.02)\n",
    "    \n",
    "plt.figure(figsize=(15,7))\n",
    "plt.show()"
   ]
  },
  {
   "cell_type": "markdown",
   "metadata": {},
   "source": [
    "<hr>\n",
    "H0 - RSSI distribution is not Normally distributed.\n",
    "<hr>\n",
    "\n",
    "Using **test statistics** it is possible to quantify the assesment of how reasonable the observed data is assuming a hypothesis is true. The value of test statistic computed from a permutation sample is called a permutation replicate. \n",
    "\n",
    "Using repetative permutation replicate, creating PDF out of all sampled data we can determine p-value which represents part of the PDF graph on the right of the actual difference of the means (of the two tested datasets).\n",
    "\n",
    "**p-value** is the probability of obtaining a value of test statistic that is at least as extreme as what was observed, under the assumpiton the null hypothesis is true (it is NOT the probability that the null hypothesis is true).\n",
    "\n",
    "Small p-value indicates that the data is statistically significantly different than what we would observe under the null hypothesis."
   ]
  },
  {
   "cell_type": "code",
   "execution_count": 37,
   "metadata": {},
   "outputs": [],
   "source": [
    "def draw_permutation_replicates(data1, data2, func, size=1):\n",
    "    \"\"\"generating multiple permuattion replicates\"\"\"\n",
    "    # initialization of an array of replicates\n",
    "    perm_replicates = np.empty(size)\n",
    "    \n",
    "    for i in range(size):\n",
    "        # generate permutation sample\n",
    "        ps1, ps2 = permutation_sample(data1, data2)\n",
    "        \n",
    "        # computing the test statistics\n",
    "        perm_replicates[i] = func(ps1, ps2)\n",
    "        \n",
    "    return perm_replicates"
   ]
  },
  {
   "cell_type": "code",
   "execution_count": 38,
   "metadata": {},
   "outputs": [],
   "source": [
    "def diff_of_means(data1, data2):\n",
    "    \"\"\"difference in means of two arrays\"\"\"\n",
    "    return np.mean(data1) - np.mean(data2)"
   ]
  },
  {
   "cell_type": "code",
   "execution_count": 39,
   "metadata": {},
   "outputs": [
    {
     "data": {
      "text/plain": [
       "0.2"
      ]
     },
     "execution_count": 39,
     "metadata": {},
     "output_type": "execute_result"
    }
   ],
   "source": [
    "# computing difference of mean between RSSI measures and theoretical RSSI distribution sample\n",
    "mu_RSSI = np.mean(data.RSSI)\n",
    "sigma_RSSI = np.std(data.RSSI)\n",
    "\n",
    "normal_RSSI = np.random.normal(mu_RSSI, sigma_RSSI, n_data)\n",
    "\n",
    "empirical_diff_means = diff_of_means(data.RSSI, normal_RSSI)\n",
    "\n",
    "# drawing 10.000 permutation replicates\n",
    "perm_replicates = draw_permutation_replicates(data.RSSI, normal_RSSI, diff_of_means, size=100)\n",
    "\n",
    "# computing the p-value\n",
    "p = np.sum(perm_replicates >= empirical_diff_means) / len(perm_replicates)\n",
    "p"
   ]
  },
  {
   "cell_type": "markdown",
   "metadata": {},
   "source": [
    "p-value turns out to be extremely large - the H0 (null hypothesis) should be rejected, which means that this distribution probably is not Gaussian! Let's create q'q plot."
   ]
  },
  {
   "cell_type": "code",
   "execution_count": 40,
   "metadata": {},
   "outputs": [
    {
     "data": {
      "image/png": "[encoded data removed]",
      "text/plain": [
       "<Figure size 432x288 with 1 Axes>"
      ]
     },
     "metadata": {
      "needs_background": "light"
     },
     "output_type": "display_data"
    }
   ],
   "source": [
    "from statsmodels.graphics.gofplots import qqplot\n",
    "\n",
    "qqplot_data = qqplot(data.RSSI, line='s').gca().lines\n",
    "\n"
   ]
  },
  {
   "cell_type": "markdown",
   "metadata": {},
   "source": [
    "Lets do **D'Agostino's $K^{2}$ test** to confirm this.\n",
    "\n",
    "Now, D'Agostino is giving null hypothesis as: Sample is Gaussian."
   ]
  },
  {
   "cell_type": "code",
   "execution_count": 41,
   "metadata": {},
   "outputs": [
    {
     "name": "stdout",
     "output_type": "stream",
     "text": [
      "Length of the sample data: 689396;        \n",
      "Test Statistic: 56874.61349510632;        \n",
      "p-value: 0.0;        \n",
      "message: Reject H0, sample probably is not Gaussian.\n"
     ]
    }
   ],
   "source": [
    "from scipy.stats import normaltest\n",
    "\n",
    "stat, p = normaltest(data.RSSI)\n",
    "\n",
    "alpha = 0.05\n",
    "if (p > alpha):\n",
    "    msg = 'Fail to reject H0, samle probably is Gaussian'\n",
    "else:\n",
    "    msg = 'Reject H0, sample probably is not Gaussian'\n",
    "\n",
    "print('Length of the sample data: {};\\\n",
    "        \\nTest Statistic: {};\\\n",
    "        \\np-value: {};\\\n",
    "        \\nmessage: {}.'.format(n_data, stat, p, msg))"
   ]
  },
  {
   "cell_type": "markdown",
   "metadata": {},
   "source": [
    "To conclude, even SNR distribution can be interpreted as Gaussian, for RSSI can be said, with great statistical significance, that is not Normally distributed."
   ]
  }
 ],
 "metadata": {
  "kernelspec": {
   "display_name": "Python 3",
   "language": "python",
   "name": "python3"
  },
  "language_info": {
   "codemirror_mode": {
    "name": "ipython",
    "version": 3
   },
   "file_extension": ".py",
   "mimetype": "text/x-python",
   "name": "python",
   "nbconvert_exporter": "python",
   "pygments_lexer": "ipython3",
   "version": "3.7.3"
  }
 },
 "nbformat": 4,
 "nbformat_minor": 2
}
