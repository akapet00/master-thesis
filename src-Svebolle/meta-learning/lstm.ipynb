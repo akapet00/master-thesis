{
 "cells": [
  {
   "cell_type": "code",
   "execution_count": 43,
   "metadata": {},
   "outputs": [],
   "source": [
    "import os \n",
    "import pandas as pd\n",
    "import matplotlib.pyplot as plt\n",
    "import numpy as np\n",
    "\n",
    "%matplotlib inline"
   ]
  },
  {
   "cell_type": "markdown",
   "metadata": {},
   "source": [
    "## Getting the Data"
   ]
  },
  {
   "cell_type": "markdown",
   "metadata": {},
   "source": [
    "Import data and load it to the dataframe."
   ]
  },
  {
   "cell_type": "code",
   "execution_count": 44,
   "metadata": {},
   "outputs": [],
   "source": [
    "DATASET_PATH = '/home/alk/aau/datasets'\n",
    "\n",
    "SVEBOLLE_PATH = os.path.join(DATASET_PATH, 'Svebolle')\n",
    "SVEBOLLE_CSV = 'LORA_data.csv'\n",
    "\n",
    "\n",
    "\n",
    "def load_data(path, csv_file, sep=','):\n",
    "    \"\"\"default sep param is ','\"\"\"\n",
    "    csv_path = os.path.join(path, csv_file)\n",
    "    return pd.read_csv(csv_path, sep)\n",
    "\n",
    "\n",
    "data = load_data(SVEBOLLE_PATH, SVEBOLLE_CSV,\n",
    "                 sep=';')"
   ]
  },
  {
   "cell_type": "markdown",
   "metadata": {},
   "source": [
    "## Creating Time-Series"
   ]
  },
  {
   "cell_type": "markdown",
   "metadata": {},
   "source": [
    "Only message type needed is *Confirmed Data Up* since it represents packets that are successfully transmitted and acknowledged."
   ]
  },
  {
   "cell_type": "code",
   "execution_count": 45,
   "metadata": {},
   "outputs": [],
   "source": [
    "data = data[data['mType']=='Confirmed Data Up']"
   ]
  },
  {
   "cell_type": "code",
   "execution_count": 46,
   "metadata": {},
   "outputs": [
    {
     "data": {
      "text/plain": [
       "Confirmed Data Up    689123\n",
       "Name: mType, dtype: int64"
      ]
     },
     "execution_count": 46,
     "metadata": {},
     "output_type": "execute_result"
    }
   ],
   "source": [
    "data.mType.value_counts()"
   ]
  },
  {
   "cell_type": "code",
   "execution_count": 47,
   "metadata": {},
   "outputs": [
    {
     "data": {
      "text/html": [
       "<div>\n",
       "<style scoped>\n",
       "    .dataframe tbody tr th:only-of-type {\n",
       "        vertical-align: middle;\n",
       "    }\n",
       "\n",
       "    .dataframe tbody tr th {\n",
       "        vertical-align: top;\n",
       "    }\n",
       "\n",
       "    .dataframe thead th {\n",
       "        text-align: right;\n",
       "    }\n",
       "</style>\n",
       "<table border=\"1\" class=\"dataframe\">\n",
       "  <thead>\n",
       "    <tr style=\"text-align: right;\">\n",
       "      <th></th>\n",
       "      <th>Time</th>\n",
       "      <th>DevAddr</th>\n",
       "      <th>Freq</th>\n",
       "      <th>Chan</th>\n",
       "      <th>BW</th>\n",
       "      <th>SPF</th>\n",
       "      <th>RSSI</th>\n",
       "      <th>SNR</th>\n",
       "      <th>4/5</th>\n",
       "      <th>dataRate</th>\n",
       "      <th>crcStatus</th>\n",
       "      <th>mType</th>\n",
       "      <th>macPayload</th>\n",
       "      <th>_id</th>\n",
       "    </tr>\n",
       "  </thead>\n",
       "  <tbody>\n",
       "    <tr>\n",
       "      <th>0</th>\n",
       "      <td>2017-01-02 12:08:27.788000</td>\n",
       "      <td>000013c1</td>\n",
       "      <td>868100000</td>\n",
       "      <td>0</td>\n",
       "      <td>125</td>\n",
       "      <td>7</td>\n",
       "      <td>-120</td>\n",
       "      <td>-1.0</td>\n",
       "      <td>4/5</td>\n",
       "      <td>{u'modulation': u'LORA', u'bandwidth': 125, u'...</td>\n",
       "      <td>1</td>\n",
       "      <td>Confirmed Data Up</td>\n",
       "      <td>c1130000804605039977d43d70b12724eea946c5a41f42...</td>\n",
       "      <td>586a34acb5866106ea976eb5</td>\n",
       "    </tr>\n",
       "    <tr>\n",
       "      <th>1</th>\n",
       "      <td>2017-01-02 12:08:29.196000</td>\n",
       "      <td>000013b8</td>\n",
       "      <td>868500000</td>\n",
       "      <td>2</td>\n",
       "      <td>125</td>\n",
       "      <td>7</td>\n",
       "      <td>-58</td>\n",
       "      <td>6.5</td>\n",
       "      <td>4/5</td>\n",
       "      <td>{u'modulation': u'LORA', u'bandwidth': 125, u'...</td>\n",
       "      <td>1</td>\n",
       "      <td>Confirmed Data Up</td>\n",
       "      <td>b813000000142b0352619fc9a89e0e561d060ca3ac29e5...</td>\n",
       "      <td>586a34aeb5866106ea976eb6</td>\n",
       "    </tr>\n",
       "    <tr>\n",
       "      <th>2</th>\n",
       "      <td>2017-01-02 12:08:44.520000</td>\n",
       "      <td>000013bf</td>\n",
       "      <td>868300000</td>\n",
       "      <td>1</td>\n",
       "      <td>125</td>\n",
       "      <td>7</td>\n",
       "      <td>-118,8</td>\n",
       "      <td>-1.8</td>\n",
       "      <td>4/5</td>\n",
       "      <td>{u'modulation': u'LORA', u'bandwidth': 125, u'...</td>\n",
       "      <td>1</td>\n",
       "      <td>Confirmed Data Up</td>\n",
       "      <td>bf13000080ba30042ea26888992702442c832fc2c8ac91...</td>\n",
       "      <td>586a34bdb5866106ea976eb7</td>\n",
       "    </tr>\n",
       "    <tr>\n",
       "      <th>3</th>\n",
       "      <td>2017-01-02 12:08:55.347000</td>\n",
       "      <td>000013bf</td>\n",
       "      <td>868500000</td>\n",
       "      <td>2</td>\n",
       "      <td>125</td>\n",
       "      <td>7</td>\n",
       "      <td>-115</td>\n",
       "      <td>1.8</td>\n",
       "      <td>4/5</td>\n",
       "      <td>{u'modulation': u'LORA', u'bandwidth': 125, u'...</td>\n",
       "      <td>1</td>\n",
       "      <td>Confirmed Data Up</td>\n",
       "      <td>bf13000080bb30030a96702f4ebe2cfe8559765a622344...</td>\n",
       "      <td>586a34c8b5866106ea976eb8</td>\n",
       "    </tr>\n",
       "    <tr>\n",
       "      <th>4</th>\n",
       "      <td>2017-01-02 12:08:55.346000</td>\n",
       "      <td>000013bf</td>\n",
       "      <td>868500000</td>\n",
       "      <td>2</td>\n",
       "      <td>125</td>\n",
       "      <td>7</td>\n",
       "      <td>-115</td>\n",
       "      <td>1.8</td>\n",
       "      <td>4/5</td>\n",
       "      <td>{u'modulation': u'LORA', u'bandwidth': 125, u'...</td>\n",
       "      <td>1</td>\n",
       "      <td>Confirmed Data Up</td>\n",
       "      <td>bf13000080bb30030a96702f4ebe2cfe8559765a622344...</td>\n",
       "      <td>586a34c8b5866106ea976eb9</td>\n",
       "    </tr>\n",
       "  </tbody>\n",
       "</table>\n",
       "</div>"
      ],
      "text/plain": [
       "                         Time   DevAddr       Freq  Chan   BW  SPF    RSSI  \\\n",
       "0  2017-01-02 12:08:27.788000  000013c1  868100000     0  125    7    -120   \n",
       "1  2017-01-02 12:08:29.196000  000013b8  868500000     2  125    7     -58   \n",
       "2  2017-01-02 12:08:44.520000  000013bf  868300000     1  125    7  -118,8   \n",
       "3  2017-01-02 12:08:55.347000  000013bf  868500000     2  125    7    -115   \n",
       "4  2017-01-02 12:08:55.346000  000013bf  868500000     2  125    7    -115   \n",
       "\n",
       "   SNR   4/5                                           dataRate  crcStatus  \\\n",
       "0 -1.0   4/5  {u'modulation': u'LORA', u'bandwidth': 125, u'...          1   \n",
       "1  6.5   4/5  {u'modulation': u'LORA', u'bandwidth': 125, u'...          1   \n",
       "2 -1.8   4/5  {u'modulation': u'LORA', u'bandwidth': 125, u'...          1   \n",
       "3  1.8   4/5  {u'modulation': u'LORA', u'bandwidth': 125, u'...          1   \n",
       "4  1.8   4/5  {u'modulation': u'LORA', u'bandwidth': 125, u'...          1   \n",
       "\n",
       "               mType                                         macPayload  \\\n",
       "0  Confirmed Data Up  c1130000804605039977d43d70b12724eea946c5a41f42...   \n",
       "1  Confirmed Data Up  b813000000142b0352619fc9a89e0e561d060ca3ac29e5...   \n",
       "2  Confirmed Data Up  bf13000080ba30042ea26888992702442c832fc2c8ac91...   \n",
       "3  Confirmed Data Up  bf13000080bb30030a96702f4ebe2cfe8559765a622344...   \n",
       "4  Confirmed Data Up  bf13000080bb30030a96702f4ebe2cfe8559765a622344...   \n",
       "\n",
       "                        _id  \n",
       "0  586a34acb5866106ea976eb5  \n",
       "1  586a34aeb5866106ea976eb6  \n",
       "2  586a34bdb5866106ea976eb7  \n",
       "3  586a34c8b5866106ea976eb8  \n",
       "4  586a34c8b5866106ea976eb9  "
      ]
     },
     "execution_count": 47,
     "metadata": {},
     "output_type": "execute_result"
    }
   ],
   "source": [
    "data.head()"
   ]
  },
  {
   "cell_type": "markdown",
   "metadata": {},
   "source": [
    "Since the future model will be based upon meta data (will be created as meta learning model) we can neglect all measured parameters and see only if the device has been active in single time point."
   ]
  },
  {
   "cell_type": "code",
   "execution_count": 48,
   "metadata": {},
   "outputs": [
    {
     "data": {
      "text/html": [
       "<div>\n",
       "<style scoped>\n",
       "    .dataframe tbody tr th:only-of-type {\n",
       "        vertical-align: middle;\n",
       "    }\n",
       "\n",
       "    .dataframe tbody tr th {\n",
       "        vertical-align: top;\n",
       "    }\n",
       "\n",
       "    .dataframe thead th {\n",
       "        text-align: right;\n",
       "    }\n",
       "</style>\n",
       "<table border=\"1\" class=\"dataframe\">\n",
       "  <thead>\n",
       "    <tr style=\"text-align: right;\">\n",
       "      <th></th>\n",
       "      <th>Time</th>\n",
       "      <th>DevAddr</th>\n",
       "    </tr>\n",
       "  </thead>\n",
       "  <tbody>\n",
       "    <tr>\n",
       "      <th>0</th>\n",
       "      <td>2017-01-02 12:08:27.788000</td>\n",
       "      <td>000013c1</td>\n",
       "    </tr>\n",
       "    <tr>\n",
       "      <th>1</th>\n",
       "      <td>2017-01-02 12:08:29.196000</td>\n",
       "      <td>000013b8</td>\n",
       "    </tr>\n",
       "    <tr>\n",
       "      <th>2</th>\n",
       "      <td>2017-01-02 12:08:44.520000</td>\n",
       "      <td>000013bf</td>\n",
       "    </tr>\n",
       "    <tr>\n",
       "      <th>3</th>\n",
       "      <td>2017-01-02 12:08:55.347000</td>\n",
       "      <td>000013bf</td>\n",
       "    </tr>\n",
       "    <tr>\n",
       "      <th>4</th>\n",
       "      <td>2017-01-02 12:08:55.346000</td>\n",
       "      <td>000013bf</td>\n",
       "    </tr>\n",
       "  </tbody>\n",
       "</table>\n",
       "</div>"
      ],
      "text/plain": [
       "                         Time   DevAddr\n",
       "0  2017-01-02 12:08:27.788000  000013c1\n",
       "1  2017-01-02 12:08:29.196000  000013b8\n",
       "2  2017-01-02 12:08:44.520000  000013bf\n",
       "3  2017-01-02 12:08:55.347000  000013bf\n",
       "4  2017-01-02 12:08:55.346000  000013bf"
      ]
     },
     "execution_count": 48,
     "metadata": {},
     "output_type": "execute_result"
    }
   ],
   "source": [
    "data = data[['Time', 'DevAddr']]\n",
    "data.head()"
   ]
  },
  {
   "cell_type": "markdown",
   "metadata": {},
   "source": [
    "Measurement is carried out during almost one year period so it is important to get rid of that extreme nanosecond resolution in *Time* column. Lets leave it on seconds for now. Then transform *Time* column into datetime format and sort it."
   ]
  },
  {
   "cell_type": "code",
   "execution_count": 49,
   "metadata": {},
   "outputs": [],
   "source": [
    "# removing nanoseconds\n",
    "Time = list(data.Time.values)\n",
    "Time_parsed = []\n",
    "sep = '.'\n",
    "for t in Time:\n",
    "    t_parsed = t.split(sep, 1)[0]\n",
    "    Time_parsed.append(t_parsed)"
   ]
  },
  {
   "cell_type": "code",
   "execution_count": 50,
   "metadata": {},
   "outputs": [],
   "source": [
    "data.Time = Time_parsed"
   ]
  },
  {
   "cell_type": "code",
   "execution_count": 51,
   "metadata": {},
   "outputs": [],
   "source": [
    "data['Time'] = pd.to_datetime(data['Time'])"
   ]
  },
  {
   "cell_type": "code",
   "execution_count": 52,
   "metadata": {},
   "outputs": [
    {
     "data": {
      "text/html": [
       "<div>\n",
       "<style scoped>\n",
       "    .dataframe tbody tr th:only-of-type {\n",
       "        vertical-align: middle;\n",
       "    }\n",
       "\n",
       "    .dataframe tbody tr th {\n",
       "        vertical-align: top;\n",
       "    }\n",
       "\n",
       "    .dataframe thead th {\n",
       "        text-align: right;\n",
       "    }\n",
       "</style>\n",
       "<table border=\"1\" class=\"dataframe\">\n",
       "  <thead>\n",
       "    <tr style=\"text-align: right;\">\n",
       "      <th></th>\n",
       "      <th>Time</th>\n",
       "      <th>DevAddr</th>\n",
       "    </tr>\n",
       "  </thead>\n",
       "  <tbody>\n",
       "    <tr>\n",
       "      <th>0</th>\n",
       "      <td>2017-01-02 12:08:27</td>\n",
       "      <td>000013c1</td>\n",
       "    </tr>\n",
       "    <tr>\n",
       "      <th>1</th>\n",
       "      <td>2017-01-02 12:08:29</td>\n",
       "      <td>000013b8</td>\n",
       "    </tr>\n",
       "    <tr>\n",
       "      <th>2</th>\n",
       "      <td>2017-01-02 12:08:44</td>\n",
       "      <td>000013bf</td>\n",
       "    </tr>\n",
       "    <tr>\n",
       "      <th>3</th>\n",
       "      <td>2017-01-02 12:08:55</td>\n",
       "      <td>000013bf</td>\n",
       "    </tr>\n",
       "    <tr>\n",
       "      <th>4</th>\n",
       "      <td>2017-01-02 12:08:55</td>\n",
       "      <td>000013bf</td>\n",
       "    </tr>\n",
       "  </tbody>\n",
       "</table>\n",
       "</div>"
      ],
      "text/plain": [
       "                 Time   DevAddr\n",
       "0 2017-01-02 12:08:27  000013c1\n",
       "1 2017-01-02 12:08:29  000013b8\n",
       "2 2017-01-02 12:08:44  000013bf\n",
       "3 2017-01-02 12:08:55  000013bf\n",
       "4 2017-01-02 12:08:55  000013bf"
      ]
     },
     "execution_count": 52,
     "metadata": {},
     "output_type": "execute_result"
    }
   ],
   "source": [
    "data.head()"
   ]
  },
  {
   "cell_type": "code",
   "execution_count": 53,
   "metadata": {},
   "outputs": [
    {
     "name": "stdout",
     "output_type": "stream",
     "text": [
      "number of transmissions: 689123\n"
     ]
    },
    {
     "data": {
      "text/html": [
       "<div>\n",
       "<style scoped>\n",
       "    .dataframe tbody tr th:only-of-type {\n",
       "        vertical-align: middle;\n",
       "    }\n",
       "\n",
       "    .dataframe tbody tr th {\n",
       "        vertical-align: top;\n",
       "    }\n",
       "\n",
       "    .dataframe thead th {\n",
       "        text-align: right;\n",
       "    }\n",
       "</style>\n",
       "<table border=\"1\" class=\"dataframe\">\n",
       "  <thead>\n",
       "    <tr style=\"text-align: right;\">\n",
       "      <th></th>\n",
       "      <th>Time</th>\n",
       "      <th>DevAddr</th>\n",
       "    </tr>\n",
       "  </thead>\n",
       "  <tbody>\n",
       "    <tr>\n",
       "      <th>0</th>\n",
       "      <td>2017-01-02 00:07:00</td>\n",
       "      <td>000013b7</td>\n",
       "    </tr>\n",
       "    <tr>\n",
       "      <th>1</th>\n",
       "      <td>2017-01-02 02:40:00</td>\n",
       "      <td>000013bf</td>\n",
       "    </tr>\n",
       "    <tr>\n",
       "      <th>2</th>\n",
       "      <td>2017-01-02 02:51:00</td>\n",
       "      <td>000013c1</td>\n",
       "    </tr>\n",
       "    <tr>\n",
       "      <th>3</th>\n",
       "      <td>2017-01-02 12:08:27</td>\n",
       "      <td>000013c1</td>\n",
       "    </tr>\n",
       "    <tr>\n",
       "      <th>4</th>\n",
       "      <td>2017-01-02 12:08:29</td>\n",
       "      <td>000013b8</td>\n",
       "    </tr>\n",
       "  </tbody>\n",
       "</table>\n",
       "</div>"
      ],
      "text/plain": [
       "                 Time   DevAddr\n",
       "0 2017-01-02 00:07:00  000013b7\n",
       "1 2017-01-02 02:40:00  000013bf\n",
       "2 2017-01-02 02:51:00  000013c1\n",
       "3 2017-01-02 12:08:27  000013c1\n",
       "4 2017-01-02 12:08:29  000013b8"
      ]
     },
     "execution_count": 53,
     "metadata": {},
     "output_type": "execute_result"
    }
   ],
   "source": [
    "# sorting \n",
    "data = data.sort_values('Time')\n",
    "data = data.reset_index(drop=True)\n",
    "print('number of transmissions:', len(data))\n",
    "data.head()"
   ]
  },
  {
   "cell_type": "markdown",
   "metadata": {},
   "source": [
    "## Creating new Dataset"
   ]
  },
  {
   "cell_type": "markdown",
   "metadata": {},
   "source": [
    "Preparing columns and indeces for new dataset filled with zero values. "
   ]
  },
  {
   "cell_type": "code",
   "execution_count": 54,
   "metadata": {},
   "outputs": [],
   "source": [
    "columns = list(data.DevAddr.unique())"
   ]
  },
  {
   "cell_type": "code",
   "execution_count": 55,
   "metadata": {},
   "outputs": [
    {
     "data": {
      "text/plain": [
       "86400"
      ]
     },
     "execution_count": 55,
     "metadata": {},
     "output_type": "execute_result"
    }
   ],
   "source": [
    "datetime_index = pd.DatetimeIndex(start='2017-08-01 00:00:00',freq='s', end='2017-08-01 23:59:59')\n",
    "len(datetime_index)"
   ]
  },
  {
   "cell_type": "code",
   "execution_count": 56,
   "metadata": {},
   "outputs": [
    {
     "data": {
      "text/plain": [
       "{'000013b7': array([0., 0., 0., ..., 0., 0., 0.]),\n",
       " '000013bf': array([0., 0., 0., ..., 0., 0., 0.]),\n",
       " '000013c1': array([0., 0., 0., ..., 0., 0., 0.]),\n",
       " '000013b8': array([0., 0., 0., ..., 0., 0., 0.]),\n",
       " '0400060e': array([0., 0., 0., ..., 0., 0., 0.]),\n",
       " '4000624': array([0., 0., 0., ..., 0., 0., 0.]),\n",
       " '0400062c': array([0., 0., 0., ..., 0., 0., 0.]),\n",
       " '4000625': array([0., 0., 0., ..., 0., 0., 0.]),\n",
       " '0400062e': array([0., 0., 0., ..., 0., 0., 0.]),\n",
       " '4000630': array([0., 0., 0., ..., 0., 0., 0.]),\n",
       " '5e0001e1': array([0., 0., 0., ..., 0., 0., 0.]),\n",
       " '5e001363': array([0., 0., 0., ..., 0., 0., 0.]),\n",
       " '33306167': array([0., 0., 0., ..., 0., 0., 0.]),\n",
       " '33306168': array([0., 0., 0., ..., 0., 0., 0.]),\n",
       " '5e00136b': array([0., 0., 0., ..., 0., 0., 0.]),\n",
       " '000013ba': array([0., 0., 0., ..., 0., 0., 0.]),\n",
       " '000013b9': array([0., 0., 0., ..., 0., 0., 0.]),\n",
       " '000013b6': array([0., 0., 0., ..., 0., 0., 0.]),\n",
       " '000013bc': array([0., 0., 0., ..., 0., 0., 0.]),\n",
       " '000013be': array([0., 0., 0., ..., 0., 0., 0.]),\n",
       " '000013b3': array([0., 0., 0., ..., 0., 0., 0.]),\n",
       " '000013b4': array([0., 0., 0., ..., 0., 0., 0.]),\n",
       " '040005f6': array([0., 0., 0., ..., 0., 0., 0.]),\n",
       " '0400062d': array([0., 0., 0., ..., 0., 0., 0.]),\n",
       " '4000626': array([0., 0., 0., ..., 0., 0., 0.]),\n",
       " '0c87435b': array([0., 0., 0., ..., 0., 0., 0.]),\n",
       " '033507c5': array([0., 0., 0., ..., 0., 0., 0.]),\n",
       " 'bc750e6b': array([0., 0., 0., ..., 0., 0., 0.]),\n",
       " '2887026b': array([0., 0., 0., ..., 0., 0., 0.]),\n",
       " '0ef58c38': array([0., 0., 0., ..., 0., 0., 0.]),\n",
       " '06cf0572': array([0., 0., 0., ..., 0., 0., 0.]),\n",
       " '7300350d': array([0., 0., 0., ..., 0., 0., 0.]),\n",
       " 'fa73018a': array([0., 0., 0., ..., 0., 0., 0.]),\n",
       " 'd4085068': array([0., 0., 0., ..., 0., 0., 0.]),\n",
       " 'b0c7223b': array([0., 0., 0., ..., 0., 0., 0.]),\n",
       " '6711e34d': array([0., 0., 0., ..., 0., 0., 0.]),\n",
       " 'c947a3cf': array([0., 0., 0., ..., 0., 0., 0.]),\n",
       " 'b6916c08': array([0., 0., 0., ..., 0., 0., 0.]),\n",
       " 'a2460a0d': array([0., 0., 0., ..., 0., 0., 0.]),\n",
       " '415d7ea1': array([0., 0., 0., ..., 0., 0., 0.]),\n",
       " '8f8200cd': array([0., 0., 0., ..., 0., 0., 0.]),\n",
       " '43a32ba9': array([0., 0., 0., ..., 0., 0., 0.]),\n",
       " 'bdb3e834': array([0., 0., 0., ..., 0., 0., 0.]),\n",
       " '8f72a7f4': array([0., 0., 0., ..., 0., 0., 0.]),\n",
       " '0400062f': array([0., 0., 0., ..., 0., 0., 0.]),\n",
       " '11de6c2b': array([0., 0., 0., ..., 0., 0., 0.]),\n",
       " '907c990a': array([0., 0., 0., ..., 0., 0., 0.]),\n",
       " '27004206': array([0., 0., 0., ..., 0., 0., 0.]),\n",
       " '0876aae8': array([0., 0., 0., ..., 0., 0., 0.]),\n",
       " '33fd89fd': array([0., 0., 0., ..., 0., 0., 0.]),\n",
       " '8ee7603e': array([0., 0., 0., ..., 0., 0., 0.]),\n",
       " '1de1024b': array([0., 0., 0., ..., 0., 0., 0.]),\n",
       " '000013b5': array([0., 0., 0., ..., 0., 0., 0.]),\n",
       " '2ef0f41b': array([0., 0., 0., ..., 0., 0., 0.]),\n",
       " '3fd1717d': array([0., 0., 0., ..., 0., 0., 0.]),\n",
       " 'b979df99': array([0., 0., 0., ..., 0., 0., 0.]),\n",
       " '22001107': array([0., 0., 0., ..., 0., 0., 0.]),\n",
       " '10d88d94': array([0., 0., 0., ..., 0., 0., 0.]),\n",
       " '400ab275': array([0., 0., 0., ..., 0., 0., 0.]),\n",
       " '906de351': array([0., 0., 0., ..., 0., 0., 0.]),\n",
       " '1de10249': array([0., 0., 0., ..., 0., 0., 0.]),\n",
       " '9678dc77': array([0., 0., 0., ..., 0., 0., 0.]),\n",
       " '000013bb': array([0., 0., 0., ..., 0., 0., 0.]),\n",
       " 'ca0d182a': array([0., 0., 0., ..., 0., 0., 0.]),\n",
       " '480e5700': array([0., 0., 0., ..., 0., 0., 0.]),\n",
       " '07511a66': array([0., 0., 0., ..., 0., 0., 0.]),\n",
       " '8713d257': array([0., 0., 0., ..., 0., 0., 0.]),\n",
       " '740917f8': array([0., 0., 0., ..., 0., 0., 0.]),\n",
       " '68b79328': array([0., 0., 0., ..., 0., 0., 0.]),\n",
       " '27a10f73': array([0., 0., 0., ..., 0., 0., 0.]),\n",
       " '078b4055': array([0., 0., 0., ..., 0., 0., 0.]),\n",
       " '33306166': array([0., 0., 0., ..., 0., 0., 0.]),\n",
       " '01ea14b3': array([0., 0., 0., ..., 0., 0., 0.]),\n",
       " 'a585194e': array([0., 0., 0., ..., 0., 0., 0.]),\n",
       " 'c91ebec9': array([0., 0., 0., ..., 0., 0., 0.]),\n",
       " '8f223f2b': array([0., 0., 0., ..., 0., 0., 0.]),\n",
       " '73985cbb': array([0., 0., 0., ..., 0., 0., 0.]),\n",
       " '7508aebe': array([0., 0., 0., ..., 0., 0., 0.]),\n",
       " '5348296e': array([0., 0., 0., ..., 0., 0., 0.]),\n",
       " 'aaec3ef9': array([0., 0., 0., ..., 0., 0., 0.]),\n",
       " '0000d5df': array([0., 0., 0., ..., 0., 0., 0.]),\n",
       " 'd8515963': array([0., 0., 0., ..., 0., 0., 0.]),\n",
       " '27c01c3b': array([0., 0., 0., ..., 0., 0., 0.]),\n",
       " '93b2ebfb': array([0., 0., 0., ..., 0., 0., 0.]),\n",
       " '049ed26c': array([0., 0., 0., ..., 0., 0., 0.]),\n",
       " 'a3e0cacb': array([0., 0., 0., ..., 0., 0., 0.]),\n",
       " '26002007': array([0., 0., 0., ..., 0., 0., 0.]),\n",
       " '8667b92e': array([0., 0., 0., ..., 0., 0., 0.]),\n",
       " '2822e873': array([0., 0., 0., ..., 0., 0., 0.]),\n",
       " '2217701f': array([0., 0., 0., ..., 0., 0., 0.]),\n",
       " '615ed5b4': array([0., 0., 0., ..., 0., 0., 0.]),\n",
       " '44121b5c': array([0., 0., 0., ..., 0., 0., 0.]),\n",
       " '9d722d63': array([0., 0., 0., ..., 0., 0., 0.]),\n",
       " 'e4559571': array([0., 0., 0., ..., 0., 0., 0.]),\n",
       " '7c19d1fb': array([0., 0., 0., ..., 0., 0., 0.]),\n",
       " '17ef3e58': array([0., 0., 0., ..., 0., 0., 0.]),\n",
       " 'ab03ca3a': array([0., 0., 0., ..., 0., 0., 0.]),\n",
       " 'b826fe0b': array([0., 0., 0., ..., 0., 0., 0.]),\n",
       " '07a9d45d': array([0., 0., 0., ..., 0., 0., 0.]),\n",
       " '1621ad13': array([0., 0., 0., ..., 0., 0., 0.])}"
      ]
     },
     "execution_count": 56,
     "metadata": {},
     "output_type": "execute_result"
    }
   ],
   "source": [
    "d = {c : np.zeros(shape=(len(datetime_index), )) for c in columns}\n",
    "d"
   ]
  },
  {
   "cell_type": "markdown",
   "metadata": {},
   "source": [
    "## Test dataframe for single device"
   ]
  },
  {
   "cell_type": "code",
   "execution_count": 57,
   "metadata": {},
   "outputs": [
    {
     "data": {
      "text/html": [
       "<div>\n",
       "<style scoped>\n",
       "    .dataframe tbody tr th:only-of-type {\n",
       "        vertical-align: middle;\n",
       "    }\n",
       "\n",
       "    .dataframe tbody tr th {\n",
       "        vertical-align: top;\n",
       "    }\n",
       "\n",
       "    .dataframe thead th {\n",
       "        text-align: right;\n",
       "    }\n",
       "</style>\n",
       "<table border=\"1\" class=\"dataframe\">\n",
       "  <thead>\n",
       "    <tr style=\"text-align: right;\">\n",
       "      <th></th>\n",
       "      <th>dev</th>\n",
       "    </tr>\n",
       "    <tr>\n",
       "      <th>Time</th>\n",
       "      <th></th>\n",
       "    </tr>\n",
       "  </thead>\n",
       "  <tbody>\n",
       "    <tr>\n",
       "      <th>2017-08-01 00:00:00</th>\n",
       "      <td>0.0</td>\n",
       "    </tr>\n",
       "    <tr>\n",
       "      <th>2017-08-01 00:00:01</th>\n",
       "      <td>0.0</td>\n",
       "    </tr>\n",
       "    <tr>\n",
       "      <th>2017-08-01 00:00:02</th>\n",
       "      <td>0.0</td>\n",
       "    </tr>\n",
       "    <tr>\n",
       "      <th>2017-08-01 00:00:03</th>\n",
       "      <td>0.0</td>\n",
       "    </tr>\n",
       "    <tr>\n",
       "      <th>2017-08-01 00:00:04</th>\n",
       "      <td>0.0</td>\n",
       "    </tr>\n",
       "  </tbody>\n",
       "</table>\n",
       "</div>"
      ],
      "text/plain": [
       "                     dev\n",
       "Time                    \n",
       "2017-08-01 00:00:00  0.0\n",
       "2017-08-01 00:00:01  0.0\n",
       "2017-08-01 00:00:02  0.0\n",
       "2017-08-01 00:00:03  0.0\n",
       "2017-08-01 00:00:04  0.0"
      ]
     },
     "execution_count": 57,
     "metadata": {},
     "output_type": "execute_result"
    }
   ],
   "source": [
    "df_temp = pd.DataFrame(data={'Time' : datetime_index,\n",
    "                             'dev' : np.zeros(shape=(len(datetime_index), )) }\n",
    "                      )\n",
    "df_temp = df_temp.set_index('Time')\n",
    "df_temp.head()"
   ]
  },
  {
   "cell_type": "markdown",
   "metadata": {},
   "source": [
    "First dataset will contain only messages from 12b7 device."
   ]
  },
  {
   "cell_type": "code",
   "execution_count": 58,
   "metadata": {},
   "outputs": [],
   "source": [
    "data_temp = data[data['DevAddr'] == '000013b7']"
   ]
  },
  {
   "cell_type": "code",
   "execution_count": 59,
   "metadata": {},
   "outputs": [
    {
     "data": {
      "text/html": [
       "<div>\n",
       "<style scoped>\n",
       "    .dataframe tbody tr th:only-of-type {\n",
       "        vertical-align: middle;\n",
       "    }\n",
       "\n",
       "    .dataframe tbody tr th {\n",
       "        vertical-align: top;\n",
       "    }\n",
       "\n",
       "    .dataframe thead th {\n",
       "        text-align: right;\n",
       "    }\n",
       "</style>\n",
       "<table border=\"1\" class=\"dataframe\">\n",
       "  <thead>\n",
       "    <tr style=\"text-align: right;\">\n",
       "      <th></th>\n",
       "      <th>DevAddr</th>\n",
       "    </tr>\n",
       "    <tr>\n",
       "      <th>Time</th>\n",
       "      <th></th>\n",
       "    </tr>\n",
       "  </thead>\n",
       "  <tbody>\n",
       "    <tr>\n",
       "      <th>2017-01-02 00:07:00</th>\n",
       "      <td>000013b7</td>\n",
       "    </tr>\n",
       "    <tr>\n",
       "      <th>2017-01-02 12:09:00</th>\n",
       "      <td>000013b7</td>\n",
       "    </tr>\n",
       "    <tr>\n",
       "      <th>2017-01-02 12:09:04</th>\n",
       "      <td>000013b7</td>\n",
       "    </tr>\n",
       "    <tr>\n",
       "      <th>2017-01-02 12:09:09</th>\n",
       "      <td>000013b7</td>\n",
       "    </tr>\n",
       "    <tr>\n",
       "      <th>2017-01-02 12:11:09</th>\n",
       "      <td>000013b7</td>\n",
       "    </tr>\n",
       "  </tbody>\n",
       "</table>\n",
       "</div>"
      ],
      "text/plain": [
       "                      DevAddr\n",
       "Time                         \n",
       "2017-01-02 00:07:00  000013b7\n",
       "2017-01-02 12:09:00  000013b7\n",
       "2017-01-02 12:09:04  000013b7\n",
       "2017-01-02 12:09:09  000013b7\n",
       "2017-01-02 12:11:09  000013b7"
      ]
     },
     "execution_count": 59,
     "metadata": {},
     "output_type": "execute_result"
    }
   ],
   "source": [
    "data_temp = data_temp.set_index('Time')\n",
    "data_temp.head()"
   ]
  },
  {
   "cell_type": "code",
   "execution_count": 60,
   "metadata": {},
   "outputs": [],
   "source": [
    "# new dataset filled w/ ones for every time device 13b7 was active\n",
    "\n",
    "ind = list(data_temp.index.values)\n",
    "for i in ind:\n",
    "    df_temp.loc[i, 'dev'] = 1.0"
   ]
  },
  {
   "cell_type": "code",
   "execution_count": 61,
   "metadata": {},
   "outputs": [
    {
     "data": {
      "text/plain": [
       "<matplotlib.axes._subplots.AxesSubplot at 0x7fa52464d4a8>"
      ]
     },
     "execution_count": 61,
     "metadata": {},
     "output_type": "execute_result"
    },
    {
     "data": {
      "image/png": "[encoded data removed]",
      "text/plain": [
       "<Figure size 432x288 with 1 Axes>"
      ]
     },
     "metadata": {
      "needs_background": "light"
     },
     "output_type": "display_data"
    }
   ],
   "source": [
    "df_temp.plot()"
   ]
  },
  {
   "cell_type": "markdown",
   "metadata": {},
   "source": [
    "## LSTM in Keras"
   ]
  },
  {
   "cell_type": "code",
   "execution_count": 70,
   "metadata": {},
   "outputs": [],
   "source": [
    "import tensorflow as tf\n",
    "from keras.models import Sequential\n",
    "from keras.layers.core import Dense, Activation, Dropout\n",
    "from keras.layers import Dense\n",
    "from keras.layers import LSTM\n",
    "import numpy as np\n",
    "from sklearn.model_selection import cross_validate\n",
    "from sklearn.metrics import mean_squared_error"
   ]
  },
  {
   "cell_type": "code",
   "execution_count": 63,
   "metadata": {},
   "outputs": [],
   "source": [
    "def timeDelay(data, delay):\n",
    "    X_data, y_data = [], []\n",
    "    \n",
    "    for i in range(delay, len(data)):\n",
    "        X_data.append(data[i-delay: i].tolist())\n",
    "    X_data = np.array(X_data)\n",
    "    y_data = data[delay:]\n",
    "    return np.reshape(X_data, (X_data.shape[0], X_data.shape[1], 1)),\\\n",
    "           np.reshape(y_data, (len(y_data), ))"
   ]
  },
  {
   "cell_type": "code",
   "execution_count": 71,
   "metadata": {},
   "outputs": [],
   "source": [
    "def split(X, y, ratio):    \n",
    "    test_split = int(len(X) * ratio)\n",
    "    \n",
    "    X_train, y_train = X[:test_split], y[:test_split]\n",
    "    X_test, y_test = X[test_split:], y[test_split:]\n",
    "    return X_train, y_train, X_test, y_test"
   ]
  },
  {
   "cell_type": "code",
   "execution_count": 65,
   "metadata": {},
   "outputs": [],
   "source": [
    "X, y = timeDelay(df_temp.dev.values, 5) # train test\n",
    "ratio = 0.8 # train-test ratio\n",
    "window_size = 5 # delay\n",
    "\n",
    "X_train, y_train, X_test, y_test = split(X, y, ratio)"
   ]
  },
  {
   "cell_type": "code",
   "execution_count": 72,
   "metadata": {},
   "outputs": [],
   "source": [
    "model = Sequential()\n",
    "model.add(LSTM(50, input_shape=(window_size, 1))) # 50 neurons\n",
    "model.add(Dropout(0.2))\n",
    "model.add(Dense(1))\n",
    "model.add(Activation('linear'))\n",
    "model.compile(loss='mse', optimizer='adam')"
   ]
  },
  {
   "cell_type": "code",
   "execution_count": 73,
   "metadata": {},
   "outputs": [
    {
     "name": "stdout",
     "output_type": "stream",
     "text": [
      "Train on 213706 samples, validate on 53427 samples\n",
      "Epoch 1/20\n",
      " - 24s - loss: 0.0022 - val_loss: 3.3382e-05\n",
      "Epoch 2/20\n",
      " - 22s - loss: 0.0024 - val_loss: 3.1719e-08\n",
      "Epoch 3/20\n",
      " - 22s - loss: 0.0018 - val_loss: 9.0575e-07\n",
      "Epoch 4/20\n",
      " - 20s - loss: 0.0017 - val_loss: 1.8615e-06\n",
      "Epoch 5/20\n",
      " - 21s - loss: 0.0017 - val_loss: 9.7745e-07\n",
      "Epoch 6/20\n",
      " - 20s - loss: 0.0017 - val_loss: 2.2920e-07\n",
      "Epoch 7/20\n",
      " - 26s - loss: 0.0017 - val_loss: 2.7362e-07\n",
      "Epoch 8/20\n",
      " - 21s - loss: 0.0016 - val_loss: 3.2293e-07\n",
      "Epoch 9/20\n",
      " - 20s - loss: 0.0016 - val_loss: 9.5401e-08\n",
      "Epoch 10/20\n",
      " - 22s - loss: 0.0016 - val_loss: 1.2909e-07\n",
      "Epoch 11/20\n",
      " - 20s - loss: 0.0016 - val_loss: 5.4732e-07\n",
      "Epoch 12/20\n",
      " - 22s - loss: 0.0016 - val_loss: 5.3981e-08\n",
      "Epoch 13/20\n",
      " - 21s - loss: 0.0016 - val_loss: 1.4129e-06\n",
      "Epoch 14/20\n",
      " - 22s - loss: 0.0016 - val_loss: 2.3341e-06\n",
      "Epoch 15/20\n",
      " - 21s - loss: 0.0016 - val_loss: 1.4756e-08\n",
      "Epoch 16/20\n",
      " - 20s - loss: 0.0016 - val_loss: 1.5047e-08\n",
      "Epoch 17/20\n",
      " - 25s - loss: 0.0016 - val_loss: 6.2081e-07\n",
      "Epoch 18/20\n",
      " - 27s - loss: 0.0016 - val_loss: 3.2395e-07\n",
      "Epoch 19/20\n",
      " - 23s - loss: 0.0016 - val_loss: 1.8537e-06\n",
      "Epoch 20/20\n",
      " - 27s - loss: 0.0016 - val_loss: 1.7922e-08\n"
     ]
    }
   ],
   "source": [
    "history = model.fit(X_train, y_train, \n",
    "                        epochs=20, \n",
    "                        batch_size=32, \n",
    "                        validation_data=(X_test, y_test), \n",
    "                        verbose=2, \n",
    "                        shuffle=False)"
   ]
  },
  {
   "cell_type": "code",
   "execution_count": 74,
   "metadata": {},
   "outputs": [],
   "source": [
    "# generate predictions\n",
    "y_train_pred = model.predict(X_train)\n",
    "y_test_pred = model.predict(X_test)"
   ]
  },
  {
   "cell_type": "code",
   "execution_count": 76,
   "metadata": {},
   "outputs": [
    {
     "name": "stdout",
     "output_type": "stream",
     "text": [
      "Train Score: 0.11 MSE (0.33 RMSE)\n",
      "Test Score: 0.00 MSE (0.00 RMSE)\n"
     ]
    }
   ],
   "source": [
    "import math\n",
    "\n",
    "# Estimate model performance\n",
    "trainScore = model.evaluate(X_train, y_train, verbose=0)\n",
    "print('Train Score: %.2f MSE (%.2f RMSE)' % (trainScore, math.sqrt(trainScore)))\n",
    "testScore = model.evaluate(X_test, y_test, verbose=0)\n",
    "print('Test Score: %.2f MSE (%.2f RMSE)' % (testScore, math.sqrt(testScore)))"
   ]
  },
  {
   "cell_type": "code",
   "execution_count": null,
   "metadata": {},
   "outputs": [],
   "source": []
  }
 ],
 "metadata": {
  "kernelspec": {
   "display_name": "Python 3",
   "language": "python",
   "name": "python3"
  },
  "language_info": {
   "codemirror_mode": {
    "name": "ipython",
    "version": 3
   },
   "file_extension": ".py",
   "mimetype": "text/x-python",
   "name": "python",
   "nbconvert_exporter": "python",
   "pygments_lexer": "ipython3",
   "version": "3.7.1"
  }
 },
 "nbformat": 4,
 "nbformat_minor": 2
}
